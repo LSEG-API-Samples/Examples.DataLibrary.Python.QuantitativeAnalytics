{
 "cells": [
  {
   "cell_type": "markdown",
   "metadata": {},
   "source": [
    "# Equity volatility surfaces samples\n",
    "\n",
    "This notebook demonstrates how to access and use the surfaces end point of Instrument Pricing Analytics (IPA) and the Refinitiv Data Libraries.\n",
    "\n",
    "##### Learn more\n",
    "\n",
    "To learn more about the Refinitiv Data Library for Python please join the Refinitiv Developer Community. By [registering](https://developers.refinitiv.com/iam/register) and [logging](https://developers.refinitiv.com/content/devportal/en_us/initCookie.html) into the Refinitiv Developer Community portal you will have free access to a number of learning materials like \n",
    " [Quick Start guides](https://developers.refinitiv.com/en/api-catalog/refinitiv-data-platform/refinitiv-data-library-for-python/quick-start), \n",
    " [Tutorials](https://developers.refinitiv.com/en/api-catalog/refinitiv-data-platform/refinitiv-data-library-for-python/tutorials), \n",
    " [Documentation](https://developers.refinitiv.com/en/api-catalog/refinitiv-data-platform/refinitiv-data-library-for-python/documentation)\n",
    " and much more.\n",
    "\n",
    "You may also visit the [API Playground](https://apidocs.refinitiv.com/Apps/ApiDocs) to get more examples, find  end points and download Swagger files\n",
    "\n",
    "##### Getting Help and Support\n",
    "\n",
    "If you have any questions regarding using the API, please post them on \n",
    "the [Refinitiv Data Q&A Forum](https://community.developers.refinitiv.com/spaces/321/index.html). \n",
    "The Refinitiv Developer Community will be happy to help. "
   ]
  },
  {
   "cell_type": "markdown",
   "metadata": {},
   "source": [
    "#### Import the library and connect to the Refinitv Data Libraries"
   ]
  },
  {
   "cell_type": "code",
   "execution_count": 1,
   "metadata": {},
   "outputs": [],
   "source": [
    "import refinitiv.data as rd\n",
    "from refinitiv.data.content.ipa import surfaces"
   ]
  },
  {
   "cell_type": "markdown",
   "metadata": {},
   "source": [
    "## Open the data session\n",
    "\n",
    "The open_session() function creates and open sessions based on the information contained in the refinitiv-data.config.json configuration file. Please edit this file to set the session type and other parameters required for the session you want to open."
   ]
  },
  {
   "cell_type": "code",
   "execution_count": 2,
   "metadata": {},
   "outputs": [],
   "source": [
    "session = rd.open_session()"
   ]
  },
  {
   "cell_type": "markdown",
   "metadata": {},
   "source": [
    "### Generating a surface for an underlying equity using a list format as ouput\n",
    "\n",
    "this sample compute on-demand the voaltility surface for BNP Paribas (BNPP.PA). the surfaceParameters are defined in order to retrieve and intraday surface (time_stamp = \"Default\") uysing Mid option prices (price_side = \"Mid\") in tenor (x_axis = \"Tenor\") and moneyness (y_axis = \"Moneyness\"). the smiles for each tenor of the surface are fitted separately (volatility_model\" = \"SVI\").\n",
    "\n",
    "the response will contain the surface as a list of points (format =  \"List\"). Each point is defined by it coordinates provided as per the xAxis and yAxis definition (Tenor / Maturity, Strike / Moneyness)."
   ]
  },
  {
   "cell_type": "code",
   "execution_count": 3,
   "metadata": {},
   "outputs": [
    {
     "data": {
      "text/plain": [
       "{'data': [{'surfaceTag': 'BNP Paribas',\n",
       "   'headers': ['tenor', 'moneyness', 'volatility'],\n",
       "   'surface': [['1M', '1', 35.0269383697073], ['2M', '1', 34.7203707483909]],\n",
       "   'forwardCurve': {'curveStructure': '',\n",
       "    'dataPoints': {'2021-02-22': 43.06627527780498,\n",
       "     '2021-03-22': 43.04802825654762}}}]}"
      ]
     },
     "execution_count": 3,
     "metadata": {},
     "output_type": "execute_result"
    }
   ],
   "source": [
    "request_definition = rd.delivery.endpoint_request.Definition(\n",
    "\n",
    "    url=\"https://api.refinitiv.com/data/quantitative-analytics-curves-and-surfaces/v1/surfaces\",\n",
    "    method=rd.delivery.endpoint_request.RequestMethod.POST,\n",
    "    body_parameters={\n",
    "        \"universe\": [\n",
    "            {\n",
    "                \"surfaceTag\": \"BNP Paribas\",\n",
    "                \"underlyingType\": \"Eti\",\n",
    "                \"underlyingDefinition\": {\n",
    "                    \"instrumentCode\": \"BNPP.PA@RIC\"\n",
    "                },\n",
    "                \"surfaceParameters\": {\n",
    "                    \"inputVolatilityType\": \"Quoted\",\n",
    "                    \"timeStamp\": \"Default\",\n",
    "                    \"priceSide\": \"Mid\",\n",
    "                    \"volatilityModel\": \"SVI\",\n",
    "                    \"xAxis\": \"Tenor\",\n",
    "                    \"yAxis\": \"Moneyness\",\n",
    "                    \"calculationDate\": \"2021-01-22\"\n",
    "                },\n",
    "                \"surfaceLayout\": {\n",
    "                    \"format\": \"List\",\n",
    "                    \"dataPoints\": [\n",
    "                        {\n",
    "                            \"x\": \"1M\",\n",
    "                            \"y\": \"1\"\n",
    "                        },\n",
    "                        {\n",
    "                            \"x\": \"2M\",\n",
    "                            \"y\": \"1\"\n",
    "                        }]\n",
    "                }\n",
    "            }],\n",
    "\n",
    "\n",
    "        \"outputs\": [\"Data\", \"ForwardCurve\", \"MoneynessStrike\"]\n",
    "\n",
    "    }\n",
    ")\n",
    "response = request_definition.get_data()\n",
    "response.data.raw"
   ]
  },
  {
   "cell_type": "code",
   "execution_count": 4,
   "metadata": {},
   "outputs": [],
   "source": [
    "rd.close_session()"
   ]
  },
  {
   "cell_type": "code",
   "execution_count": null,
   "metadata": {},
   "outputs": [],
   "source": []
  }
 ],
 "metadata": {
  "kernelspec": {
   "display_name": "Python 3 (ipykernel)",
   "language": "python",
   "name": "python3"
  },
  "language_info": {
   "codemirror_mode": {
    "name": "ipython",
    "version": 3
   },
   "file_extension": ".py",
   "mimetype": "text/x-python",
   "name": "python",
   "nbconvert_exporter": "python",
   "pygments_lexer": "ipython3",
   "version": "3.9.13"
  },
  "vscode": {
   "interpreter": {
    "hash": "c85fff1d8f64dd81ed62580beef2fa8681baae0ff4c4324d6e96d73878a4932d"
   }
  }
 },
 "nbformat": 4,
 "nbformat_minor": 4
}
