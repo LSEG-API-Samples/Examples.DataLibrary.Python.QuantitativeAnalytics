{
 "cells": [
  {
   "cell_type": "markdown",
   "metadata": {},
   "source": [
    "# Equity Listed Vanilla Option Samples\n",
    "\n",
    "This notebook demonstrates how to access and use the financial-contracts end point of Instrument Pricing Analytics (IPA) and the Refinitiv Data Libraries.\n",
    "\n",
    "##### Learn more\n",
    "\n",
    "To learn more about the Refinitiv Data Library for Python please join the Refinitiv Developer Community. By [registering](https://developers.refinitiv.com/iam/register) and [logging](https://developers.refinitiv.com/content/devportal/en_us/initCookie.html) into the Refinitiv Developer Community portal you will have free access to a number of learning materials like \n",
    " [Quick Start guides](https://developers.refinitiv.com/en/api-catalog/refinitiv-data-platform/refinitiv-data-library-for-python/quick-start), \n",
    " [Tutorials](https://developers.refinitiv.com/en/api-catalog/refinitiv-data-platform/refinitiv-data-library-for-python/tutorials), \n",
    " [Documentation](https://developers.refinitiv.com/en/api-catalog/refinitiv-data-platform/refinitiv-data-library-for-python/documentation)\n",
    " and much more.\n",
    "\n",
    "You may also visit the [API Playground](https://apidocs.refinitiv.com/Apps/ApiDocs) to get more examples, find  end points and download Swagger files\n",
    "\n",
    "##### Getting Help and Support\n",
    "\n",
    "If you have any questions regarding using the API, please post them on \n",
    "the [Refinitiv Data Q&A Forum](https://community.developers.refinitiv.com/spaces/321/index.html). \n",
    "The Refinitiv Developer Community will be happy to help. "
   ]
  },
  {
   "cell_type": "markdown",
   "metadata": {},
   "source": [
    "#### Import the library and connect to the Refinitv Data Libraries"
   ]
  },
  {
   "cell_type": "code",
   "execution_count": 1,
   "metadata": {},
   "outputs": [],
   "source": [
    "import refinitiv.data as rd\n",
    "from refinitiv.data.content.ipa.financial_contracts import option"
   ]
  },
  {
   "cell_type": "markdown",
   "metadata": {},
   "source": [
    "## Open the data session\n",
    "\n",
    "The open_session() function creates and open sessions based on the information contained in the refinitiv-data.config.json configuration file. Please edit this file to set the session type and other parameters required for the session you want to open."
   ]
  },
  {
   "cell_type": "code",
   "execution_count": 2,
   "metadata": {},
   "outputs": [
    {
     "data": {
      "text/plain": [
       "<refinitiv.data.session.Definition object at 0x1579a1790 {name='workspace'}>"
      ]
     },
     "execution_count": 2,
     "metadata": {},
     "output_type": "execute_result"
    }
   ],
   "source": [
    "rd.open_session()"
   ]
  },
  {
   "cell_type": "markdown",
   "metadata": {},
   "source": [
    "### Computing the implied volatility and the greeks for a Listed Vanilla Option\n",
    "\n",
    "This sample compute the implied volatility and the main greeks for a listed options. 'AAPLA202303000.U' is used and may have to be changed to another listed option code when it has expired. The returned 'fields' are:\n",
    "- the option term & conditions\n",
    "    (InstrumentCode,ExerciseType,OptionType,ExerciseStyle,EndDate,StrikePrice)\n",
    "- the market value in cash (MarketValueInDealCcy)\n",
    "- the implied volatility (VolatilityPercent)\n",
    "- the main Greeks (DeltaPercent, GammaPercent, RhoPercent, ThetaPercent)\n",
    "- the error information (ErrorCode,ErrorMessage)\n",
    "\n",
    "the full documentation of the parameters available for equity options can be found in the [Developer Community Portal](https://developers.refinitiv.com/en/api-catalog/refinitiv-data-platform/refinitiv-data-platform-apis/documentation#ipa-financial-contracts-option-contracts-eti)\n"
   ]
  },
  {
   "cell_type": "code",
   "execution_count": 3,
   "metadata": {},
   "outputs": [
    {
     "data": {
      "text/html": [
       "<div>\n",
       "<style scoped>\n",
       "    .dataframe tbody tr th:only-of-type {\n",
       "        vertical-align: middle;\n",
       "    }\n",
       "\n",
       "    .dataframe tbody tr th {\n",
       "        vertical-align: top;\n",
       "    }\n",
       "\n",
       "    .dataframe thead th {\n",
       "        text-align: right;\n",
       "    }\n",
       "</style>\n",
       "<table border=\"1\" class=\"dataframe\">\n",
       "  <thead>\n",
       "    <tr style=\"text-align: right;\">\n",
       "      <th></th>\n",
       "      <th>InstrumentCode</th>\n",
       "      <th>ExerciseType</th>\n",
       "      <th>OptionType</th>\n",
       "      <th>ExerciseStyle</th>\n",
       "      <th>EndDate</th>\n",
       "      <th>StrikePrice</th>\n",
       "      <th>MarketValueInDealCcy</th>\n",
       "      <th>VolatilityPercent</th>\n",
       "      <th>DeltaPercent</th>\n",
       "      <th>GammaPercent</th>\n",
       "      <th>ThetaPercent</th>\n",
       "      <th>RhoPercent</th>\n",
       "      <th>ErrorMessage</th>\n",
       "    </tr>\n",
       "  </thead>\n",
       "  <tbody>\n",
       "    <tr>\n",
       "      <th>0</th>\n",
       "      <td>AAPLA192405000.U</td>\n",
       "      <td>CALL</td>\n",
       "      <td>Vanilla</td>\n",
       "      <td>AMER</td>\n",
       "      <td>2024-01-19</td>\n",
       "      <td>50</td>\n",
       "      <td>126.22</td>\n",
       "      <td>49.490841</td>\n",
       "      <td>0.982374</td>\n",
       "      <td>0.000364</td>\n",
       "      <td>-0.002819</td>\n",
       "      <td>0.480981</td>\n",
       "      <td></td>\n",
       "    </tr>\n",
       "  </tbody>\n",
       "</table>\n",
       "</div>"
      ],
      "text/plain": [
       "     InstrumentCode ExerciseType OptionType ExerciseStyle    EndDate  \\\n",
       "0  AAPLA192405000.U         CALL    Vanilla          AMER 2024-01-19   \n",
       "\n",
       "   StrikePrice  MarketValueInDealCcy  VolatilityPercent  DeltaPercent  \\\n",
       "0           50                126.22          49.490841      0.982374   \n",
       "\n",
       "   GammaPercent  ThetaPercent  RhoPercent ErrorMessage  \n",
       "0      0.000364     -0.002819    0.480981               "
      ]
     },
     "execution_count": 3,
     "metadata": {},
     "output_type": "execute_result"
    }
   ],
   "source": [
    "response = option.Definition(\n",
    "\n",
    "    underlying_type=option.UnderlyingType.ETI,\n",
    "    instrument_code=\"AAPLA192405000.U\",\n",
    "    pricing_parameters=option.PricingParameters(\n",
    "        valuation_date=\"2022-01-12T00:00:00Z\",\n",
    "        volatility_type=\"Implied\"),\n",
    "\n",
    "    fields=[\"InstrumentCode\",\n",
    "            \"ExerciseType\",\n",
    "            \"OptionType\",\n",
    "            \"ExerciseStyle\",\n",
    "            \"EndDate\",\n",
    "            \"StrikePrice\",\n",
    "            \"MarketValueInDealCcy\",\n",
    "            \"VolatilityPercent\",\n",
    "            \"DeltaPercent\",\n",
    "            \"GammaPercent\",\n",
    "            \"ThetaPercent\",\n",
    "            \"RhoPercent\",\n",
    "            \"ErrorMessage\"]\n",
    ").get_data()\n",
    "response.data.df"
   ]
  },
  {
   "cell_type": "code",
   "execution_count": 4,
   "metadata": {},
   "outputs": [],
   "source": [
    "rd.close_session()"
   ]
  },
  {
   "cell_type": "code",
   "execution_count": null,
   "metadata": {},
   "outputs": [],
   "source": []
  }
 ],
 "metadata": {
  "kernelspec": {
   "display_name": "Python 3 (ipykernel)",
   "language": "python",
   "name": "python3"
  },
  "language_info": {
   "codemirror_mode": {
    "name": "ipython",
    "version": 3
   },
   "file_extension": ".py",
   "mimetype": "text/x-python",
   "name": "python",
   "nbconvert_exporter": "python",
   "pygments_lexer": "ipython3",
   "version": "3.9.13"
  },
  "vscode": {
   "interpreter": {
    "hash": "c85fff1d8f64dd81ed62580beef2fa8681baae0ff4c4324d6e96d73878a4932d"
   }
  }
 },
 "nbformat": 4,
 "nbformat_minor": 4
}
