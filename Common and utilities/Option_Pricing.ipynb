{
 "cells": [
  {
   "cell_type": "markdown",
   "metadata": {},
   "source": [
    "# Refinitiv Data Platform Library for Python\n",
    "## Function - IPA - Option Pricing"
   ]
  },
  {
   "cell_type": "markdown",
   "metadata": {},
   "source": [
    "This notebook demonstrates how to price Options using the Instrument Pricing Analytics (IPA) and the Refinitiv Data Libraries.\n",
    "##### Learn more\n",
    "\n",
    "To learn more about the Refinitiv Data Library for Python please join the Refinitiv Developer Community. By [registering](https://developers.refinitiv.com/iam/register) and [logging](https://developers.refinitiv.com/content/devportal/en_us/initCookie.html) into the Refinitiv Developer Community portal you will have free access to a number of learning materials like \n",
    " [Quick Start guides](https://developers.refinitiv.com/en/api-catalog/refinitiv-data-platform/refinitiv-data-library-for-python/quick-start), \n",
    " [Tutorials](https://developers.refinitiv.com/en/api-catalog/refinitiv-data-platform/refinitiv-data-library-for-python/tutorials), \n",
    " [Documentation](https://developers.refinitiv.com/en/api-catalog/refinitiv-data-platform/refinitiv-data-library-for-python/documentation)\n",
    " and much more.\n",
    "\n",
    "You may also visit the [API Playground](https://apidocs.refinitiv.com/Apps/ApiDocs) to get more examples, find  end points and download Swagger files\n",
    "\n",
    "##### Getting Help and Support\n",
    "\n",
    "If you have any questions regarding using the API, please post them on \n",
    "the [Refinitiv Data Q&A Forum](https://community.developers.refinitiv.com/spaces/321/index.html). \n",
    "The Refinitiv Developer Community will be happy to help. \n"
   ]
  },
  {
   "cell_type": "markdown",
   "metadata": {},
   "source": [
    "## Import the library and connect to Refinitiv Data Libraries"
   ]
  },
  {
   "cell_type": "code",
   "execution_count": 1,
   "metadata": {},
   "outputs": [],
   "source": [
    "import refinitiv.data as rd\n",
    "import refinitiv.data.content.ipa.financial_contracts as rdf\n",
    "from refinitiv.data.content.ipa.financial_contracts import option"
   ]
  },
  {
   "cell_type": "markdown",
   "metadata": {},
   "source": [
    "## Open the data session\n",
    "\n",
    "The open_session() function creates and open sessions based on the information contained in the refinitiv-data.config.json configuration file. Please edit this file to set the session type and other parameters required for the session you want to open."
   ]
  },
  {
   "cell_type": "code",
   "execution_count": 2,
   "metadata": {},
   "outputs": [
    {
     "data": {
      "text/plain": [
       "<refinitiv.data.session.Definition object at 0x1060110a0 {name='workspace'}>"
      ]
     },
     "execution_count": 2,
     "metadata": {},
     "output_type": "execute_result"
    }
   ],
   "source": [
    "rd.open_session()"
   ]
  },
  {
   "cell_type": "markdown",
   "metadata": {},
   "source": [
    "## Option Pricing\n",
    "\n",
    "This sample shows how to model options and compute analytics both for listed and OTC options."
   ]
  },
  {
   "cell_type": "markdown",
   "metadata": {},
   "source": [
    "### Single ETI Option\n",
    "\n",
    "In this sample, we compute the implied volatility and some greeks for an index option. More output fields can be found on the Refinitiv Developer Community [here](https://developers.refinitiv.com/refinitiv-data-platform/refinitiv-data-platform-apis/docs?content=94324&type=documentation_item)"
   ]
  },
  {
   "cell_type": "markdown",
   "metadata": {},
   "source": [
    "### Multiple ETI Options with a global parameters\n",
    "\n",
    "In the example below we compute the same analytics but for a list of options. We also set a valuation date in the past globaly and force the use of the Binomial model (Black&Scholes is the default for european options). The full list of pricing parameters can be found on the Refinitiv Developer Community [here](https://developers.refinitiv.com/refinitiv-data-platform/refinitiv-data-platform-apis/docs?content = 94324&type = documentation_item)"
   ]
  },
  {
   "cell_type": "code",
   "execution_count": 3,
   "metadata": {},
   "outputs": [
    {
     "data": {
      "text/html": [
       "<div>\n",
       "<style scoped>\n",
       "    .dataframe tbody tr th:only-of-type {\n",
       "        vertical-align: middle;\n",
       "    }\n",
       "\n",
       "    .dataframe tbody tr th {\n",
       "        vertical-align: top;\n",
       "    }\n",
       "\n",
       "    .dataframe thead th {\n",
       "        text-align: right;\n",
       "    }\n",
       "</style>\n",
       "<table border=\"1\" class=\"dataframe\">\n",
       "  <thead>\n",
       "    <tr style=\"text-align: right;\">\n",
       "      <th></th>\n",
       "      <th>ValuationDate</th>\n",
       "      <th>OptionType</th>\n",
       "      <th>ExerciseType</th>\n",
       "      <th>ExerciseStyle</th>\n",
       "      <th>EndDate</th>\n",
       "      <th>StrikePrice</th>\n",
       "      <th>VolatilityPercent</th>\n",
       "      <th>DeltaPercent</th>\n",
       "      <th>GammaPercent</th>\n",
       "    </tr>\n",
       "  </thead>\n",
       "  <tbody>\n",
       "    <tr>\n",
       "      <th>0</th>\n",
       "      <td>2023-01-05</td>\n",
       "      <td>Vanilla</td>\n",
       "      <td>CALL</td>\n",
       "      <td>EURO</td>\n",
       "      <td>2024-06-21</td>\n",
       "      <td>7000</td>\n",
       "      <td>16.536506</td>\n",
       "      <td>0.455178</td>\n",
       "      <td>0.000284</td>\n",
       "    </tr>\n",
       "    <tr>\n",
       "      <th>1</th>\n",
       "      <td>2023-01-05</td>\n",
       "      <td>Vanilla</td>\n",
       "      <td>CALL</td>\n",
       "      <td>EURO</td>\n",
       "      <td>2024-06-21</td>\n",
       "      <td>7000</td>\n",
       "      <td>16.536506</td>\n",
       "      <td>0.455178</td>\n",
       "      <td>0.000284</td>\n",
       "    </tr>\n",
       "  </tbody>\n",
       "</table>\n",
       "</div>"
      ],
      "text/plain": [
       "  ValuationDate OptionType ExerciseType ExerciseStyle    EndDate  StrikePrice  \\\n",
       "0    2023-01-05    Vanilla         CALL          EURO 2024-06-21         7000   \n",
       "1    2023-01-05    Vanilla         CALL          EURO 2024-06-21         7000   \n",
       "\n",
       "   VolatilityPercent  DeltaPercent  GammaPercent  \n",
       "0          16.536506      0.455178      0.000284  \n",
       "1          16.536506      0.455178      0.000284  "
      ]
     },
     "execution_count": 3,
     "metadata": {},
     "output_type": "execute_result"
    }
   ],
   "source": [
    "response = rdf.Definitions(\n",
    "    universe=[\n",
    "        option.Definition(\n",
    "            underlying_type=option.UnderlyingType.ETI,\n",
    "            instrument_code=\"FCHI700000F4.p\"),\n",
    "        option.Definition(\n",
    "            underlying_type=option.UnderlyingType.ETI,\n",
    "            instrument_code=\"FCHI700000F4.p\"),\n",
    "    ],\n",
    "    pricing_parameters=option.PricingParameters(\n",
    "        valuation_date=\"2023-01-05\",\n",
    "        pricing_model_type=option.PricingModelType.BINOMIAL),\n",
    "    fields=[\"ValuationDate\",\n",
    "            \"OptionType\",\n",
    "            \"ExerciseType\",\n",
    "            \"ExerciseStyle\",\n",
    "            \"EndDate\",\n",
    "            \"StrikePrice\",\n",
    "            \"VolatilityPercent\",\n",
    "            \"DeltaPercent\",\n",
    "            \"GammaPercent\"]\n",
    ").get_data()\n",
    "\n",
    "response.data.df"
   ]
  },
  {
   "cell_type": "markdown",
   "metadata": {},
   "source": [
    "### Global & Individual pricing parameters\n",
    "\n",
    "In the sample below the two options are analyzed on 2019, July 5th. For the sesond option we specifically use the BID side of the option price instead of the MID, which is the default value. "
   ]
  },
  {
   "cell_type": "code",
   "execution_count": 4,
   "metadata": {},
   "outputs": [
    {
     "data": {
      "text/html": [
       "<div>\n",
       "<style scoped>\n",
       "    .dataframe tbody tr th:only-of-type {\n",
       "        vertical-align: middle;\n",
       "    }\n",
       "\n",
       "    .dataframe tbody tr th {\n",
       "        vertical-align: top;\n",
       "    }\n",
       "\n",
       "    .dataframe thead th {\n",
       "        text-align: right;\n",
       "    }\n",
       "</style>\n",
       "<table border=\"1\" class=\"dataframe\">\n",
       "  <thead>\n",
       "    <tr style=\"text-align: right;\">\n",
       "      <th></th>\n",
       "      <th>ValuationDate</th>\n",
       "      <th>OptionType</th>\n",
       "      <th>ExerciseType</th>\n",
       "      <th>ExerciseStyle</th>\n",
       "      <th>EndDate</th>\n",
       "      <th>StrikePrice</th>\n",
       "      <th>VolatilityPercent</th>\n",
       "      <th>DeltaPercent</th>\n",
       "      <th>GammaPercent</th>\n",
       "    </tr>\n",
       "  </thead>\n",
       "  <tbody>\n",
       "    <tr>\n",
       "      <th>0</th>\n",
       "      <td>2023-01-05</td>\n",
       "      <td>Vanilla</td>\n",
       "      <td>CALL</td>\n",
       "      <td>EURO</td>\n",
       "      <td>2024-06-21</td>\n",
       "      <td>7000</td>\n",
       "      <td>16.610194</td>\n",
       "      <td>0.455113</td>\n",
       "      <td>0.000281</td>\n",
       "    </tr>\n",
       "    <tr>\n",
       "      <th>1</th>\n",
       "      <td>2023-01-05</td>\n",
       "      <td>Vanilla</td>\n",
       "      <td>CALL</td>\n",
       "      <td>EURO</td>\n",
       "      <td>2024-06-21</td>\n",
       "      <td>7000</td>\n",
       "      <td>16.610194</td>\n",
       "      <td>0.455113</td>\n",
       "      <td>0.000281</td>\n",
       "    </tr>\n",
       "  </tbody>\n",
       "</table>\n",
       "</div>"
      ],
      "text/plain": [
       "  ValuationDate OptionType ExerciseType ExerciseStyle    EndDate  StrikePrice  \\\n",
       "0    2023-01-05    Vanilla         CALL          EURO 2024-06-21         7000   \n",
       "1    2023-01-05    Vanilla         CALL          EURO 2024-06-21         7000   \n",
       "\n",
       "   VolatilityPercent  DeltaPercent  GammaPercent  \n",
       "0          16.610194      0.455113      0.000281  \n",
       "1          16.610194      0.455113      0.000281  "
      ]
     },
     "execution_count": 4,
     "metadata": {},
     "output_type": "execute_result"
    }
   ],
   "source": [
    "response = rdf.Definitions(\n",
    "\n",
    "    universe=[\n",
    "        option.Definition(\n",
    "            underlying_type=option.UnderlyingType.ETI,\n",
    "            instrument_code=\"FCHI700000F4.p\"),\n",
    "\n",
    "        option.Definition(\n",
    "            underlying_type=option.UnderlyingType.ETI,\n",
    "            instrument_code=\"FCHI700000F4.p\",\n",
    "            pricing_parameters=option.PricingParameters(\n",
    "                price_side=option.PriceSide.BID)),\n",
    "    ],\n",
    "    pricing_parameters=option.PricingParameters(\n",
    "        valuation_date=\"2023-01-05\"),\n",
    "\n",
    "    fields=[\"ValuationDate\",\n",
    "            \"OptionType\",\n",
    "            \"ExerciseType\",\n",
    "            \"ExerciseStyle\",\n",
    "            \"EndDate\",\n",
    "            \"StrikePrice\",\n",
    "            \"VolatilityPercent\",\n",
    "            \"DeltaPercent\",\n",
    "            \"GammaPercent\"]\n",
    ").get_data()\n",
    "\n",
    "response.data.df"
   ]
  },
  {
   "cell_type": "markdown",
   "metadata": {},
   "source": [
    "### OTC FX Option\n",
    "It is also possible to define an OTC options by providing its definition through parameters. The full list is described on the Refinitiv Developer Community [here](https://developers.refinitiv.com/refinitiv-data-platform/refinitiv-data-platform-apis/docs?content = 89174&type = documentation_item).\n",
    "In the sample below we describe a 5M vanilla call on AUD / USD starting today with a strike of 0.64 and a notional of 1M\n"
   ]
  },
  {
   "cell_type": "code",
   "execution_count": 5,
   "metadata": {},
   "outputs": [
    {
     "data": {
      "text/html": [
       "<div>\n",
       "<style scoped>\n",
       "    .dataframe tbody tr th:only-of-type {\n",
       "        vertical-align: middle;\n",
       "    }\n",
       "\n",
       "    .dataframe tbody tr th {\n",
       "        vertical-align: top;\n",
       "    }\n",
       "\n",
       "    .dataframe thead th {\n",
       "        text-align: right;\n",
       "    }\n",
       "</style>\n",
       "<table border=\"1\" class=\"dataframe\">\n",
       "  <thead>\n",
       "    <tr style=\"text-align: right;\">\n",
       "      <th></th>\n",
       "      <th>ValuationDate</th>\n",
       "      <th>OptionType</th>\n",
       "      <th>ExerciseType</th>\n",
       "      <th>ExerciseStyle</th>\n",
       "      <th>EndDate</th>\n",
       "      <th>StrikePrice</th>\n",
       "      <th>PremiumPercent</th>\n",
       "      <th>DeltaPercent</th>\n",
       "      <th>GammaPercent</th>\n",
       "    </tr>\n",
       "  </thead>\n",
       "  <tbody>\n",
       "    <tr>\n",
       "      <th>0</th>\n",
       "      <td>2023-03-07</td>\n",
       "      <td>Vanilla</td>\n",
       "      <td>CALL</td>\n",
       "      <td>EURO</td>\n",
       "      <td>2023-08-07</td>\n",
       "      <td>0.64</td>\n",
       "      <td>6.214879</td>\n",
       "      <td>73.872731</td>\n",
       "      <td>3.827358</td>\n",
       "    </tr>\n",
       "  </tbody>\n",
       "</table>\n",
       "</div>"
      ],
      "text/plain": [
       "  ValuationDate OptionType ExerciseType ExerciseStyle    EndDate  StrikePrice  \\\n",
       "0    2023-03-07    Vanilla         CALL          EURO 2023-08-07         0.64   \n",
       "\n",
       "   PremiumPercent  DeltaPercent  GammaPercent  \n",
       "0        6.214879     73.872731      3.827358  "
      ]
     },
     "execution_count": 5,
     "metadata": {},
     "output_type": "execute_result"
    }
   ],
   "source": [
    "response = option.Definition(\n",
    "\n",
    "    underlying_type=option.UnderlyingType.FX,\n",
    "    underlying_definition=option.FxUnderlyingDefinition(\"AUDUSD\"),\n",
    "    tenor=\"5M\",\n",
    "    strike=0.6400,\n",
    "    call_put=\"Call\",\n",
    "    exercise_style=\"EURO\",\n",
    "    notional_amount=1000000,\n",
    "    notional_ccy=\"AUD\",\n",
    "    fields=[\"ValuationDate\",\n",
    "            \"OptionType\",\n",
    "            \"ExerciseType\",\n",
    "            \"ExerciseStyle\",\n",
    "            \"EndDate\",\n",
    "            \"StrikePrice\",\n",
    "            \"PremiumPercent\",\n",
    "            \"DeltaPercent\",\n",
    "            \"GammaPercent\"]\n",
    ").get_data()\n",
    "\n",
    "response.data.df"
   ]
  },
  {
   "cell_type": "markdown",
   "metadata": {},
   "source": [
    "## Close the default session"
   ]
  },
  {
   "cell_type": "code",
   "execution_count": 6,
   "metadata": {},
   "outputs": [],
   "source": [
    "rd.close_session()"
   ]
  },
  {
   "cell_type": "code",
   "execution_count": null,
   "metadata": {},
   "outputs": [],
   "source": []
  }
 ],
 "metadata": {
  "kernelspec": {
   "display_name": "Python 3 (ipykernel)",
   "language": "python",
   "name": "python3"
  },
  "language_info": {
   "codemirror_mode": {
    "name": "ipython",
    "version": 3
   },
   "file_extension": ".py",
   "mimetype": "text/x-python",
   "name": "python",
   "nbconvert_exporter": "python",
   "pygments_lexer": "ipython3",
   "version": "3.9.13"
  },
  "vscode": {
   "interpreter": {
    "hash": "c85fff1d8f64dd81ed62580beef2fa8681baae0ff4c4324d6e96d73878a4932d"
   }
  }
 },
 "nbformat": 4,
 "nbformat_minor": 4
}
