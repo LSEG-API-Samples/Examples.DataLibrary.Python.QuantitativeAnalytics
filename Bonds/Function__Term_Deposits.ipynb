{
 "cells": [
  {
   "cell_type": "markdown",
   "metadata": {},
   "source": [
    "# Refinitiv Data Platform Library for Python\n",
    "## Function - IPA - Term Deposits"
   ]
  },
  {
   "cell_type": "markdown",
   "metadata": {},
   "source": [
    "This notebook demonstrates how to price Term Deposits using the Instrument Pricing Analytics (IPA) and the Refinitiv Data Libraries.\n",
    "\n",
    "##### Learn more\n",
    "\n",
    "To learn more about the Refinitiv Data Library for Python please join the Refinitiv Developer Community. By [registering](https://developers.refinitiv.com/iam/register) and [logging](https://developers.refinitiv.com/content/devportal/en_us/initCookie.html) into the Refinitiv Developer Community portal you will have free access to a number of learning materials like \n",
    " [Quick Start guides](https://developers.refinitiv.com/en/api-catalog/refinitiv-data-platform/refinitiv-data-library-for-python/quick-start), \n",
    " [Tutorials](https://developers.refinitiv.com/en/api-catalog/refinitiv-data-platform/refinitiv-data-library-for-python/tutorials), \n",
    " [Documentation](https://developers.refinitiv.com/en/api-catalog/refinitiv-data-platform/refinitiv-data-library-for-python/documentation)\n",
    " and much more.\n",
    "\n",
    "You may also visit the [API Playground](https://apidocs.refinitiv.com/Apps/ApiDocs) to get more examples, find  end points and download Swagger files\n",
    "\n",
    "##### Getting Help and Support\n",
    "\n",
    "If you have any questions regarding using the API, please post them on \n",
    "the [Refinitiv Data Q&A Forum](https://community.developers.refinitiv.com/spaces/321/index.html). \n",
    "The Refinitiv Developer Community will be happy to help. \n"
   ]
  },
  {
   "cell_type": "markdown",
   "metadata": {},
   "source": [
    "## Import the library and connect to Refinitiv Data Libraries"
   ]
  },
  {
   "cell_type": "code",
   "execution_count": 1,
   "metadata": {},
   "outputs": [],
   "source": [
    "import refinitiv.data as rd\n",
    "import refinitiv.data.content.ipa.financial_contracts as rdf\n",
    "from refinitiv.data.content.ipa.financial_contracts import term_deposit"
   ]
  },
  {
   "cell_type": "markdown",
   "metadata": {},
   "source": [
    "## Open the data session\n",
    "\n",
    "The open_session() function creates and open sessions based on the information contained in the refinitiv-data.config.json configuration file. Please edit this file to set the session type and other parameters required for the session you want to open."
   ]
  },
  {
   "cell_type": "code",
   "execution_count": 2,
   "metadata": {},
   "outputs": [
    {
     "data": {
      "text/plain": [
       "<refinitiv.data.session.Definition object at 0x103618fd0 {name='workspace'}>"
      ]
     },
     "execution_count": 2,
     "metadata": {},
     "output_type": "execute_result"
    }
   ],
   "source": [
    "rd.open_session()"
   ]
  },
  {
   "cell_type": "markdown",
   "metadata": {},
   "source": [
    "## Term Deposits"
   ]
  },
  {
   "cell_type": "markdown",
   "metadata": {},
   "source": [
    "### Single"
   ]
  },
  {
   "cell_type": "code",
   "execution_count": 3,
   "metadata": {},
   "outputs": [
    {
     "data": {
      "text/html": [
       "<div>\n",
       "<style scoped>\n",
       "    .dataframe tbody tr th:only-of-type {\n",
       "        vertical-align: middle;\n",
       "    }\n",
       "\n",
       "    .dataframe tbody tr th {\n",
       "        vertical-align: top;\n",
       "    }\n",
       "\n",
       "    .dataframe thead th {\n",
       "        text-align: right;\n",
       "    }\n",
       "</style>\n",
       "<table border=\"1\" class=\"dataframe\">\n",
       "  <thead>\n",
       "    <tr style=\"text-align: right;\">\n",
       "      <th></th>\n",
       "      <th>StartDate</th>\n",
       "      <th>EndDate</th>\n",
       "      <th>MarketDataDate</th>\n",
       "      <th>ValuationDate</th>\n",
       "      <th>Tenor</th>\n",
       "      <th>FixedRatePercent</th>\n",
       "      <th>InterestAmountInDealCcy</th>\n",
       "      <th>RepaymentAmountInDealCcy</th>\n",
       "      <th>AccruedAmountInDealCcy</th>\n",
       "      <th>ErrorCode</th>\n",
       "      <th>ErrorMessage</th>\n",
       "      <th>ProcessingInformation</th>\n",
       "    </tr>\n",
       "  </thead>\n",
       "  <tbody>\n",
       "    <tr>\n",
       "      <th>0</th>\n",
       "      <td>2023-03-09</td>\n",
       "      <td>2028-03-09</td>\n",
       "      <td>2023-03-07</td>\n",
       "      <td>2023-03-07</td>\n",
       "      <td>5Y</td>\n",
       "      <td>10</td>\n",
       "      <td>500547.945205</td>\n",
       "      <td>1500547.945205</td>\n",
       "      <td>0</td>\n",
       "      <td></td>\n",
       "      <td></td>\n",
       "      <td></td>\n",
       "    </tr>\n",
       "  </tbody>\n",
       "</table>\n",
       "</div>"
      ],
      "text/plain": [
       "   StartDate    EndDate MarketDataDate ValuationDate Tenor  FixedRatePercent  \\\n",
       "0 2023-03-09 2028-03-09     2023-03-07    2023-03-07    5Y                10   \n",
       "\n",
       "   InterestAmountInDealCcy  RepaymentAmountInDealCcy  AccruedAmountInDealCcy  \\\n",
       "0            500547.945205            1500547.945205                       0   \n",
       "\n",
       "  ErrorCode ErrorMessage ProcessingInformation  \n",
       "0                                               "
      ]
     },
     "execution_count": 3,
     "metadata": {},
     "output_type": "execute_result"
    }
   ],
   "source": [
    "response = term_deposit.Definition(\n",
    "\n",
    "    instrument_tag=\"AED_AM1A\",\n",
    "    tenor=\"5Y\",\n",
    "    notional_ccy=\"GBP\",\n",
    "    fixed_rate_percent=10\n",
    "\n",
    ").get_data()\n",
    "\n",
    "response.data.df"
   ]
  },
  {
   "cell_type": "markdown",
   "metadata": {},
   "source": [
    "### Multiple"
   ]
  },
  {
   "cell_type": "code",
   "execution_count": 4,
   "metadata": {},
   "outputs": [
    {
     "data": {
      "text/html": [
       "<div>\n",
       "<style scoped>\n",
       "    .dataframe tbody tr th:only-of-type {\n",
       "        vertical-align: middle;\n",
       "    }\n",
       "\n",
       "    .dataframe tbody tr th {\n",
       "        vertical-align: top;\n",
       "    }\n",
       "\n",
       "    .dataframe thead th {\n",
       "        text-align: right;\n",
       "    }\n",
       "</style>\n",
       "<table border=\"1\" class=\"dataframe\">\n",
       "  <thead>\n",
       "    <tr style=\"text-align: right;\">\n",
       "      <th></th>\n",
       "      <th>StartDate</th>\n",
       "      <th>EndDate</th>\n",
       "      <th>MarketDataDate</th>\n",
       "      <th>ValuationDate</th>\n",
       "      <th>Tenor</th>\n",
       "      <th>FixedRatePercent</th>\n",
       "      <th>InterestAmountInDealCcy</th>\n",
       "      <th>RepaymentAmountInDealCcy</th>\n",
       "      <th>AccruedAmountInDealCcy</th>\n",
       "      <th>ErrorCode</th>\n",
       "      <th>ErrorMessage</th>\n",
       "      <th>ProcessingInformation</th>\n",
       "    </tr>\n",
       "  </thead>\n",
       "  <tbody>\n",
       "    <tr>\n",
       "      <th>0</th>\n",
       "      <td>2023-03-09</td>\n",
       "      <td>2028-03-09</td>\n",
       "      <td>2023-03-07</td>\n",
       "      <td>2023-03-07</td>\n",
       "      <td>5Y</td>\n",
       "      <td>10</td>\n",
       "      <td>500547.945205</td>\n",
       "      <td>1500547.945205</td>\n",
       "      <td>0</td>\n",
       "      <td></td>\n",
       "      <td></td>\n",
       "      <td></td>\n",
       "    </tr>\n",
       "    <tr>\n",
       "      <th>1</th>\n",
       "      <td>2023-03-09</td>\n",
       "      <td>2028-03-09</td>\n",
       "      <td>2023-03-07</td>\n",
       "      <td>2023-03-07</td>\n",
       "      <td>5Y</td>\n",
       "      <td>10</td>\n",
       "      <td>500547.945205</td>\n",
       "      <td>1500547.945205</td>\n",
       "      <td>0</td>\n",
       "      <td></td>\n",
       "      <td></td>\n",
       "      <td></td>\n",
       "    </tr>\n",
       "  </tbody>\n",
       "</table>\n",
       "</div>"
      ],
      "text/plain": [
       "   StartDate    EndDate MarketDataDate ValuationDate Tenor  FixedRatePercent  \\\n",
       "0 2023-03-09 2028-03-09     2023-03-07    2023-03-07    5Y                10   \n",
       "1 2023-03-09 2028-03-09     2023-03-07    2023-03-07    5Y                10   \n",
       "\n",
       "   InterestAmountInDealCcy  RepaymentAmountInDealCcy  AccruedAmountInDealCcy  \\\n",
       "0            500547.945205            1500547.945205                       0   \n",
       "1            500547.945205            1500547.945205                       0   \n",
       "\n",
       "  ErrorCode ErrorMessage ProcessingInformation  \n",
       "0                                               \n",
       "1                                               "
      ]
     },
     "execution_count": 4,
     "metadata": {},
     "output_type": "execute_result"
    }
   ],
   "source": [
    "response = rdf.Definitions(\n",
    "    universe=[\n",
    "        term_deposit.Definition(\n",
    "            instrument_tag=\"AED_AM1A\",\n",
    "            tenor=\"5Y\",\n",
    "            notional_ccy=\"GBP\",\n",
    "            fixed_rate_percent=10\n",
    "        ),\n",
    "        term_deposit.Definition(\n",
    "            instrument_tag=\"AED_AM1A\",\n",
    "            tenor=\"5Y\",\n",
    "            notional_ccy=\"GBP\",\n",
    "            fixed_rate_percent=10\n",
    "        )\n",
    "    ]\n",
    ").get_data()\n",
    "\n",
    "response.data.df"
   ]
  },
  {
   "cell_type": "markdown",
   "metadata": {},
   "source": [
    "### Fields selection"
   ]
  },
  {
   "cell_type": "code",
   "execution_count": 5,
   "metadata": {},
   "outputs": [
    {
     "data": {
      "text/html": [
       "<div>\n",
       "<style scoped>\n",
       "    .dataframe tbody tr th:only-of-type {\n",
       "        vertical-align: middle;\n",
       "    }\n",
       "\n",
       "    .dataframe tbody tr th {\n",
       "        vertical-align: top;\n",
       "    }\n",
       "\n",
       "    .dataframe thead th {\n",
       "        text-align: right;\n",
       "    }\n",
       "</style>\n",
       "<table border=\"1\" class=\"dataframe\">\n",
       "  <thead>\n",
       "    <tr style=\"text-align: right;\">\n",
       "      <th></th>\n",
       "      <th>InstrumentTag</th>\n",
       "      <th>InstrumentDescription</th>\n",
       "      <th>FixedRate</th>\n",
       "      <th>MarketValueInDealCcy</th>\n",
       "      <th>MarketValueInReportCcy</th>\n",
       "      <th>ErrorMessage</th>\n",
       "    </tr>\n",
       "  </thead>\n",
       "  <tbody>\n",
       "    <tr>\n",
       "      <th>0</th>\n",
       "      <td>AED_AM1A</td>\n",
       "      <td>Deposit 1000000 'GBP' 10% '2028-03-09'</td>\n",
       "      <td>&lt;NA&gt;</td>\n",
       "      <td>222275.46153</td>\n",
       "      <td>&lt;NA&gt;</td>\n",
       "      <td></td>\n",
       "    </tr>\n",
       "  </tbody>\n",
       "</table>\n",
       "</div>"
      ],
      "text/plain": [
       "  InstrumentTag                   InstrumentDescription  FixedRate  \\\n",
       "0      AED_AM1A  Deposit 1000000 'GBP' 10% '2028-03-09'       <NA>   \n",
       "\n",
       "   MarketValueInDealCcy  MarketValueInReportCcy ErrorMessage  \n",
       "0          222275.46153                    <NA>               "
      ]
     },
     "execution_count": 5,
     "metadata": {},
     "output_type": "execute_result"
    }
   ],
   "source": [
    "response = term_deposit.Definition(\n",
    "\n",
    "    instrument_tag=\"AED_AM1A\",\n",
    "    tenor=\"5Y\",\n",
    "    notional_ccy=\"GBP\",\n",
    "    fixed_rate_percent=10,\n",
    "\n",
    "    fields=[\n",
    "        \"InstrumentTag\",\n",
    "        \"InstrumentDescription\",\n",
    "        \"FixedRate\",\n",
    "        \"MarketValueInDealCcy\",\n",
    "        \"MarketValueInReportCcy\",\n",
    "        \"ErrorMessage\"\n",
    "    ],\n",
    "\n",
    ").get_data()\n",
    "\n",
    "response.data.df"
   ]
  },
  {
   "cell_type": "markdown",
   "metadata": {},
   "source": [
    "### Global calculation parameters"
   ]
  },
  {
   "cell_type": "code",
   "execution_count": 6,
   "metadata": {},
   "outputs": [
    {
     "data": {
      "text/html": [
       "<div>\n",
       "<style scoped>\n",
       "    .dataframe tbody tr th:only-of-type {\n",
       "        vertical-align: middle;\n",
       "    }\n",
       "\n",
       "    .dataframe tbody tr th {\n",
       "        vertical-align: top;\n",
       "    }\n",
       "\n",
       "    .dataframe thead th {\n",
       "        text-align: right;\n",
       "    }\n",
       "</style>\n",
       "<table border=\"1\" class=\"dataframe\">\n",
       "  <thead>\n",
       "    <tr style=\"text-align: right;\">\n",
       "      <th></th>\n",
       "      <th>StartDate</th>\n",
       "      <th>EndDate</th>\n",
       "      <th>MarketDataDate</th>\n",
       "      <th>ValuationDate</th>\n",
       "      <th>Tenor</th>\n",
       "      <th>FixedRatePercent</th>\n",
       "      <th>InterestAmountInDealCcy</th>\n",
       "      <th>RepaymentAmountInDealCcy</th>\n",
       "      <th>AccruedAmountInDealCcy</th>\n",
       "      <th>ErrorCode</th>\n",
       "      <th>ErrorMessage</th>\n",
       "      <th>ProcessingInformation</th>\n",
       "    </tr>\n",
       "  </thead>\n",
       "  <tbody>\n",
       "    <tr>\n",
       "      <th>0</th>\n",
       "      <td>2018-01-12</td>\n",
       "      <td>2023-01-12</td>\n",
       "      <td>2018-01-10</td>\n",
       "      <td>2018-01-10</td>\n",
       "      <td>5Y</td>\n",
       "      <td>10</td>\n",
       "      <td>500273.972603</td>\n",
       "      <td>1500273.972603</td>\n",
       "      <td>0</td>\n",
       "      <td></td>\n",
       "      <td></td>\n",
       "      <td></td>\n",
       "    </tr>\n",
       "  </tbody>\n",
       "</table>\n",
       "</div>"
      ],
      "text/plain": [
       "   StartDate    EndDate MarketDataDate ValuationDate Tenor  FixedRatePercent  \\\n",
       "0 2018-01-12 2023-01-12     2018-01-10    2018-01-10    5Y                10   \n",
       "\n",
       "   InterestAmountInDealCcy  RepaymentAmountInDealCcy  AccruedAmountInDealCcy  \\\n",
       "0            500273.972603            1500273.972603                       0   \n",
       "\n",
       "  ErrorCode ErrorMessage ProcessingInformation  \n",
       "0                                               "
      ]
     },
     "execution_count": 6,
     "metadata": {},
     "output_type": "execute_result"
    }
   ],
   "source": [
    "response = term_deposit.Definition(\n",
    "\n",
    "    instrument_tag=\"AED_AM1A\",\n",
    "    tenor=\"5Y\",\n",
    "    notional_ccy=\"GBP\",\n",
    "    fixed_rate_percent=10,\n",
    "    pricing_parameters=term_deposit.PricingParameters(\n",
    "        valuation_date=\"2018-01-10T00:00:00Z\")\n",
    "\n",
    ").get_data()\n",
    "\n",
    "response.data.df"
   ]
  },
  {
   "cell_type": "markdown",
   "metadata": {},
   "source": [
    "### Global & individual calculation parameters"
   ]
  },
  {
   "cell_type": "code",
   "execution_count": 7,
   "metadata": {},
   "outputs": [
    {
     "data": {
      "text/html": [
       "<div>\n",
       "<style scoped>\n",
       "    .dataframe tbody tr th:only-of-type {\n",
       "        vertical-align: middle;\n",
       "    }\n",
       "\n",
       "    .dataframe tbody tr th {\n",
       "        vertical-align: top;\n",
       "    }\n",
       "\n",
       "    .dataframe thead th {\n",
       "        text-align: right;\n",
       "    }\n",
       "</style>\n",
       "<table border=\"1\" class=\"dataframe\">\n",
       "  <thead>\n",
       "    <tr style=\"text-align: right;\">\n",
       "      <th></th>\n",
       "      <th>StartDate</th>\n",
       "      <th>EndDate</th>\n",
       "      <th>MarketDataDate</th>\n",
       "      <th>ValuationDate</th>\n",
       "      <th>Tenor</th>\n",
       "      <th>FixedRatePercent</th>\n",
       "      <th>InterestAmountInDealCcy</th>\n",
       "      <th>RepaymentAmountInDealCcy</th>\n",
       "      <th>AccruedAmountInDealCcy</th>\n",
       "      <th>ErrorCode</th>\n",
       "      <th>ErrorMessage</th>\n",
       "      <th>ProcessingInformation</th>\n",
       "    </tr>\n",
       "  </thead>\n",
       "  <tbody>\n",
       "    <tr>\n",
       "      <th>0</th>\n",
       "      <td>2018-01-12</td>\n",
       "      <td>2023-01-12</td>\n",
       "      <td>2018-01-10</td>\n",
       "      <td>2018-01-10</td>\n",
       "      <td>5Y</td>\n",
       "      <td>10</td>\n",
       "      <td>500273.972603</td>\n",
       "      <td>1500273.972603</td>\n",
       "      <td>0</td>\n",
       "      <td></td>\n",
       "      <td></td>\n",
       "      <td></td>\n",
       "    </tr>\n",
       "  </tbody>\n",
       "</table>\n",
       "</div>"
      ],
      "text/plain": [
       "   StartDate    EndDate MarketDataDate ValuationDate Tenor  FixedRatePercent  \\\n",
       "0 2018-01-12 2023-01-12     2018-01-10    2018-01-10    5Y                10   \n",
       "\n",
       "   InterestAmountInDealCcy  RepaymentAmountInDealCcy  AccruedAmountInDealCcy  \\\n",
       "0            500273.972603            1500273.972603                       0   \n",
       "\n",
       "  ErrorCode ErrorMessage ProcessingInformation  \n",
       "0                                               "
      ]
     },
     "execution_count": 7,
     "metadata": {},
     "output_type": "execute_result"
    }
   ],
   "source": [
    "response = rdf.Definitions(\n",
    "    universe=[\n",
    "        term_deposit.Definition(\n",
    "            instrument_tag=\"AED_AM1A\",\n",
    "            tenor=\"5Y\",\n",
    "            notional_ccy=\"GBP\",\n",
    "            fixed_rate_percent=10,\n",
    "            pricing_parameters=term_deposit.PricingParameters(\n",
    "                valuation_date=\"2018-01-10T00:00:00Z\"),\n",
    "        ),\n",
    "    ],\n",
    "    pricing_parameters=term_deposit.PricingParameters(\n",
    "        valuation_date=\"2018-01-10T00:00:00Z\")\n",
    "\n",
    ").get_data()\n",
    "\n",
    "response.data.df"
   ]
  },
  {
   "cell_type": "markdown",
   "metadata": {},
   "source": [
    "## Close the default session"
   ]
  },
  {
   "cell_type": "code",
   "execution_count": 8,
   "metadata": {},
   "outputs": [],
   "source": [
    "rd.close_session()"
   ]
  },
  {
   "cell_type": "code",
   "execution_count": null,
   "metadata": {},
   "outputs": [],
   "source": []
  }
 ],
 "metadata": {
  "kernelspec": {
   "display_name": "Python 3 (ipykernel)",
   "language": "python",
   "name": "python3"
  },
  "language_info": {
   "codemirror_mode": {
    "name": "ipython",
    "version": 3
   },
   "file_extension": ".py",
   "mimetype": "text/x-python",
   "name": "python",
   "nbconvert_exporter": "python",
   "pygments_lexer": "ipython3",
   "version": "3.9.13"
  },
  "vscode": {
   "interpreter": {
    "hash": "c85fff1d8f64dd81ed62580beef2fa8681baae0ff4c4324d6e96d73878a4932d"
   }
  }
 },
 "nbformat": 4,
 "nbformat_minor": 4
}
