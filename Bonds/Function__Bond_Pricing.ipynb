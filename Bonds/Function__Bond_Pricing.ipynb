{
 "cells": [
  {
   "cell_type": "markdown",
   "metadata": {},
   "source": [
    "# Refinitiv Data Platform Library for Python\n",
    "## Function - IPA - Bond Pricing"
   ]
  },
  {
   "cell_type": "markdown",
   "metadata": {},
   "source": [
    "This notebook demonstrates how to price Bonds using the Instrument Pricing Analytics (IPA) and the Refinitiv Data Libraries.\n",
    "\n",
    "##### Learn more\n",
    "\n",
    "To learn more about the Refinitiv Data Library for Python please join the Refinitiv Developer Community. By [registering](https://developers.refinitiv.com/iam/register) and [logging](https://developers.refinitiv.com/content/devportal/en_us/initCookie.html) into the Refinitiv Developer Community portal you will have free access to a number of learning materials like \n",
    " [Quick Start guides](https://developers.refinitiv.com/en/api-catalog/refinitiv-data-platform/refinitiv-data-library-for-python/quick-start), \n",
    " [Tutorials](https://developers.refinitiv.com/en/api-catalog/refinitiv-data-platform/refinitiv-data-library-for-python/tutorials), \n",
    " [Documentation](https://developers.refinitiv.com/en/api-catalog/refinitiv-data-platform/refinitiv-data-library-for-python/documentation)\n",
    " and much more.\n",
    "\n",
    "You may also visit the [API Playground](https://apidocs.refinitiv.com/Apps/ApiDocs) to get more examples, find  end points and download Swagger files\n",
    "\n",
    "##### Getting Help and Support\n",
    "\n",
    "If you have any questions regarding using the API, please post them on \n",
    "the [Refinitiv Data Q&A Forum](https://community.developers.refinitiv.com/spaces/321/index.html). \n",
    "The Refinitiv Developer Community will be happy to help. "
   ]
  },
  {
   "cell_type": "markdown",
   "metadata": {},
   "source": [
    "## Import the library and connect to Refinitiv Data Libraries"
   ]
  },
  {
   "cell_type": "code",
   "execution_count": 1,
   "metadata": {},
   "outputs": [],
   "source": [
    "import refinitiv.data as rd\n",
    "import refinitiv.data.content.ipa.financial_contracts as rdf\n",
    "from refinitiv.data.content.ipa.financial_contracts import bond"
   ]
  },
  {
   "cell_type": "markdown",
   "metadata": {},
   "source": [
    "## Open the data session\n",
    "\n",
    "The open_session() function creates and open sessions based on the information contained in the refinitiv-data.config.json configuration file. Please edit this file to set the session type and other parameters required for the session you want to open."
   ]
  },
  {
   "cell_type": "code",
   "execution_count": 2,
   "metadata": {},
   "outputs": [
    {
     "data": {
      "text/plain": [
       "<refinitiv.data.session.Definition object at 0x105c902b0 {name='workspace'}>"
      ]
     },
     "execution_count": 2,
     "metadata": {},
     "output_type": "execute_result"
    }
   ],
   "source": [
    "rd.open_session()"
   ]
  },
  {
   "cell_type": "markdown",
   "metadata": {},
   "source": [
    "## Bond Pricing\n",
    "\n",
    "The get_bond_analytics function computes bond analytics (yield, sensitivities, spreads) based on the latest available market data or using end of day data.\n",
    "\n",
    "The list of available fields can be found on the Refinitiv Developer Community [here](https://developers.refinitiv.com/refinitiv-data-platform/refinitiv-data-platform-apis/docs?content=72362&type=documentation_item)\n"
   ]
  },
  {
   "cell_type": "code",
   "execution_count": 3,
   "metadata": {},
   "outputs": [
    {
     "data": {
      "text/html": [
       "<div>\n",
       "<style scoped>\n",
       "    .dataframe tbody tr th:only-of-type {\n",
       "        vertical-align: middle;\n",
       "    }\n",
       "\n",
       "    .dataframe tbody tr th {\n",
       "        vertical-align: top;\n",
       "    }\n",
       "\n",
       "    .dataframe thead th {\n",
       "        text-align: right;\n",
       "    }\n",
       "</style>\n",
       "<table border=\"1\" class=\"dataframe\">\n",
       "  <thead>\n",
       "    <tr style=\"text-align: right;\">\n",
       "      <th></th>\n",
       "      <th>InstrumentDescription</th>\n",
       "      <th>MarketDataDate</th>\n",
       "      <th>Price</th>\n",
       "      <th>YieldPercent</th>\n",
       "      <th>GovernmentSpreadBp</th>\n",
       "      <th>SectorRatingSpreadBp</th>\n",
       "    </tr>\n",
       "  </thead>\n",
       "  <tbody>\n",
       "    <tr>\n",
       "      <th>0</th>\n",
       "      <td>UST    4.000 02/29/28</td>\n",
       "      <td>2023-03-07 06:16:11</td>\n",
       "      <td>98.910156</td>\n",
       "      <td>4.244977</td>\n",
       "      <td>0</td>\n",
       "      <td>&lt;NA&gt;</td>\n",
       "    </tr>\n",
       "  </tbody>\n",
       "</table>\n",
       "</div>"
      ],
      "text/plain": [
       "   InstrumentDescription      MarketDataDate      Price  YieldPercent  \\\n",
       "0  UST    4.000 02/29/28 2023-03-07 06:16:11  98.910156      4.244977   \n",
       "\n",
       "   GovernmentSpreadBp  SectorRatingSpreadBp  \n",
       "0                   0                  <NA>  "
      ]
     },
     "execution_count": 3,
     "metadata": {},
     "output_type": "execute_result"
    }
   ],
   "source": [
    "response = bond.Definition(\n",
    "\n",
    "    instrument_code=\"US5YT=RR\",\n",
    "\n",
    "    fields=[\n",
    "        \"InstrumentDescription\",\n",
    "        \"MarketDataDate\",\n",
    "        \"Price\",\n",
    "        \"YieldPercent\",\n",
    "        \"GovernmentSpreadBp\",\n",
    "        \"SectorRatingSpreadBp\"\n",
    "    ]\n",
    ").get_data()\n",
    "\n",
    "response.data.df\n"
   ]
  },
  {
   "cell_type": "markdown",
   "metadata": {},
   "source": [
    "### Single Bond"
   ]
  },
  {
   "cell_type": "code",
   "execution_count": 4,
   "metadata": {},
   "outputs": [
    {
     "data": {
      "text/html": [
       "<div>\n",
       "<style scoped>\n",
       "    .dataframe tbody tr th:only-of-type {\n",
       "        vertical-align: middle;\n",
       "    }\n",
       "\n",
       "    .dataframe tbody tr th {\n",
       "        vertical-align: top;\n",
       "    }\n",
       "\n",
       "    .dataframe thead th {\n",
       "        text-align: right;\n",
       "    }\n",
       "</style>\n",
       "<table border=\"1\" class=\"dataframe\">\n",
       "  <thead>\n",
       "    <tr style=\"text-align: right;\">\n",
       "      <th></th>\n",
       "      <th>InstrumentDescription</th>\n",
       "      <th>MarketDataDate</th>\n",
       "      <th>Price</th>\n",
       "      <th>YieldPercent</th>\n",
       "      <th>GovernmentSpreadBp</th>\n",
       "      <th>SectorRatingSpreadBp</th>\n",
       "    </tr>\n",
       "  </thead>\n",
       "  <tbody>\n",
       "    <tr>\n",
       "      <th>0</th>\n",
       "      <td>CA     5.000 08/01/28 '25</td>\n",
       "      <td>2023-03-07 06:16:14</td>\n",
       "      <td>105.289</td>\n",
       "      <td>2.703</td>\n",
       "      <td>-205</td>\n",
       "      <td>-44.7</td>\n",
       "    </tr>\n",
       "  </tbody>\n",
       "</table>\n",
       "</div>"
      ],
      "text/plain": [
       "       InstrumentDescription      MarketDataDate    Price  YieldPercent  \\\n",
       "0  CA     5.000 08/01/28 '25 2023-03-07 06:16:14  105.289         2.703   \n",
       "\n",
       "   GovernmentSpreadBp  SectorRatingSpreadBp  \n",
       "0                -205                 -44.7  "
      ]
     },
     "execution_count": 4,
     "metadata": {},
     "output_type": "execute_result"
    }
   ],
   "source": [
    "response = bond.Definition(\n",
    "\n",
    "    instrument_code=\"13063CUV0\",\n",
    "    fields=[\n",
    "        \"InstrumentDescription\",\n",
    "        \"MarketDataDate\",\n",
    "        \"Price\",\n",
    "        \"YieldPercent\",\n",
    "        \"GovernmentSpreadBp\",\n",
    "        \"SectorRatingSpreadBp\"\n",
    "    ]\n",
    ").get_data()\n",
    "\n",
    "response.data.df\n"
   ]
  },
  {
   "cell_type": "markdown",
   "metadata": {},
   "source": [
    "### Multiple Bonds"
   ]
  },
  {
   "cell_type": "code",
   "execution_count": 5,
   "metadata": {},
   "outputs": [
    {
     "data": {
      "text/html": [
       "<div>\n",
       "<style scoped>\n",
       "    .dataframe tbody tr th:only-of-type {\n",
       "        vertical-align: middle;\n",
       "    }\n",
       "\n",
       "    .dataframe tbody tr th {\n",
       "        vertical-align: top;\n",
       "    }\n",
       "\n",
       "    .dataframe thead th {\n",
       "        text-align: right;\n",
       "    }\n",
       "</style>\n",
       "<table border=\"1\" class=\"dataframe\">\n",
       "  <thead>\n",
       "    <tr style=\"text-align: right;\">\n",
       "      <th></th>\n",
       "      <th>InstrumentDescription</th>\n",
       "      <th>MarketDataDate</th>\n",
       "      <th>Price</th>\n",
       "      <th>YieldPercent</th>\n",
       "      <th>ZSpreadBp</th>\n",
       "    </tr>\n",
       "  </thead>\n",
       "  <tbody>\n",
       "    <tr>\n",
       "      <th>0</th>\n",
       "      <td>UST     Bill 02/22/24</td>\n",
       "      <td>2023-03-07 06:16:18</td>\n",
       "      <td>95.316344</td>\n",
       "      <td>5.048614</td>\n",
       "      <td>-54.256602</td>\n",
       "    </tr>\n",
       "    <tr>\n",
       "      <th>1</th>\n",
       "      <td>UST    4.000 02/29/28</td>\n",
       "      <td>2023-03-07 06:16:18</td>\n",
       "      <td>98.910156</td>\n",
       "      <td>4.244977</td>\n",
       "      <td>-7.1626</td>\n",
       "    </tr>\n",
       "    <tr>\n",
       "      <th>2</th>\n",
       "      <td>UST    3.500 02/15/33</td>\n",
       "      <td>2023-03-07 06:16:18</td>\n",
       "      <td>96.304688</td>\n",
       "      <td>3.952895</td>\n",
       "      <td>-0.207418</td>\n",
       "    </tr>\n",
       "  </tbody>\n",
       "</table>\n",
       "</div>"
      ],
      "text/plain": [
       "   InstrumentDescription      MarketDataDate      Price  YieldPercent  \\\n",
       "0  UST     Bill 02/22/24 2023-03-07 06:16:18  95.316344      5.048614   \n",
       "1  UST    4.000 02/29/28 2023-03-07 06:16:18  98.910156      4.244977   \n",
       "2  UST    3.500 02/15/33 2023-03-07 06:16:18  96.304688      3.952895   \n",
       "\n",
       "   ZSpreadBp  \n",
       "0 -54.256602  \n",
       "1    -7.1626  \n",
       "2  -0.207418  "
      ]
     },
     "execution_count": 5,
     "metadata": {},
     "output_type": "execute_result"
    }
   ],
   "source": [
    "response = rdf.Definitions(\n",
    "\n",
    "    universe=[\n",
    "        bond.Definition(instrument_code=\"US1YT=RR\"),\n",
    "        bond.Definition(instrument_code=\"US5YT=RR\"),\n",
    "        bond.Definition(instrument_code=\"US10YT=RR\")],\n",
    "\n",
    "    fields=[\"InstrumentDescription\",\n",
    "            \"MarketDataDate\",\n",
    "            \"Price\",\n",
    "            \"YieldPercent\",\n",
    "            \"ZSpreadBp\"]\n",
    ").get_data()\n",
    "\n",
    "response.data.df"
   ]
  },
  {
   "cell_type": "markdown",
   "metadata": {},
   "source": [
    "### Global pricing parameters\n",
    "\n",
    "The pricing parameters can be used to control the calculation. The list of available parameters as well as available fields can be found on the Refinitiv Developers Community [here](https://developers.refinitiv.com/refinitiv-data-platform/refinitiv-data-platform-apis/docs?content=72362&type=documentation_item)\n"
   ]
  },
  {
   "cell_type": "code",
   "execution_count": 6,
   "metadata": {},
   "outputs": [
    {
     "data": {
      "text/html": [
       "<div>\n",
       "<style scoped>\n",
       "    .dataframe tbody tr th:only-of-type {\n",
       "        vertical-align: middle;\n",
       "    }\n",
       "\n",
       "    .dataframe tbody tr th {\n",
       "        vertical-align: top;\n",
       "    }\n",
       "\n",
       "    .dataframe thead th {\n",
       "        text-align: right;\n",
       "    }\n",
       "</style>\n",
       "<table border=\"1\" class=\"dataframe\">\n",
       "  <thead>\n",
       "    <tr style=\"text-align: right;\">\n",
       "      <th></th>\n",
       "      <th>InstrumentDescription</th>\n",
       "      <th>MarketDataDate</th>\n",
       "      <th>Price</th>\n",
       "      <th>YieldPercent</th>\n",
       "      <th>ZSpreadBp</th>\n",
       "    </tr>\n",
       "  </thead>\n",
       "  <tbody>\n",
       "    <tr>\n",
       "      <th>0</th>\n",
       "      <td>UST     Bill 06/17/21 MATd</td>\n",
       "      <td>2020-07-05</td>\n",
       "      <td>99.851028</td>\n",
       "      <td>0.157329</td>\n",
       "      <td>-14.379905</td>\n",
       "    </tr>\n",
       "    <tr>\n",
       "      <th>1</th>\n",
       "      <td>UST    0.250 06/30/25</td>\n",
       "      <td>2020-07-05</td>\n",
       "      <td>99.765625</td>\n",
       "      <td>0.297412</td>\n",
       "      <td>-3.367682</td>\n",
       "    </tr>\n",
       "    <tr>\n",
       "      <th>2</th>\n",
       "      <td>UST    0.625 05/15/30</td>\n",
       "      <td>2020-07-05</td>\n",
       "      <td>99.5625</td>\n",
       "      <td>0.670924</td>\n",
       "      <td>2.91446</td>\n",
       "    </tr>\n",
       "  </tbody>\n",
       "</table>\n",
       "</div>"
      ],
      "text/plain": [
       "        InstrumentDescription MarketDataDate      Price  YieldPercent  \\\n",
       "0  UST     Bill 06/17/21 MATd     2020-07-05  99.851028      0.157329   \n",
       "1       UST    0.250 06/30/25     2020-07-05  99.765625      0.297412   \n",
       "2       UST    0.625 05/15/30     2020-07-05    99.5625      0.670924   \n",
       "\n",
       "   ZSpreadBp  \n",
       "0 -14.379905  \n",
       "1  -3.367682  \n",
       "2    2.91446  "
      ]
     },
     "execution_count": 6,
     "metadata": {},
     "output_type": "execute_result"
    }
   ],
   "source": [
    "response = rdf.Definitions(\n",
    "\n",
    "    universe=[\n",
    "        bond.Definition(instrument_code=\"US1YT=RR\"),\n",
    "        bond.Definition(instrument_code=\"US5YT=RR\"),\n",
    "        bond.Definition(instrument_code=\"US10YT=RR\")\n",
    "    ],\n",
    "    pricing_parameters=bond.PricingParameters(\n",
    "        market_data_date=\"2020-07-05\",\n",
    "        price_side=bond.PriceSide.BID\n",
    "    ),\n",
    "    fields=[\n",
    "        \"InstrumentDescription\",\n",
    "        \"MarketDataDate\",\n",
    "        \"Price\",\n",
    "        \"YieldPercent\",\n",
    "        \"ZSpreadBp\"]\n",
    ").get_data()\n",
    "\n",
    "response.data.df"
   ]
  },
  {
   "cell_type": "markdown",
   "metadata": {},
   "source": [
    "### Global & individual pricing parameters\n",
    "The pricing parameters may also be defined at the instrument level and combined with global prameters. In the example below the 3 bonds are priced at the same date in the past but each bond is assigned a specifc price."
   ]
  },
  {
   "cell_type": "code",
   "execution_count": 7,
   "metadata": {},
   "outputs": [
    {
     "data": {
      "text/html": [
       "<div>\n",
       "<style scoped>\n",
       "    .dataframe tbody tr th:only-of-type {\n",
       "        vertical-align: middle;\n",
       "    }\n",
       "\n",
       "    .dataframe tbody tr th {\n",
       "        vertical-align: top;\n",
       "    }\n",
       "\n",
       "    .dataframe thead th {\n",
       "        text-align: right;\n",
       "    }\n",
       "</style>\n",
       "<table border=\"1\" class=\"dataframe\">\n",
       "  <thead>\n",
       "    <tr style=\"text-align: right;\">\n",
       "      <th></th>\n",
       "      <th>InstrumentDescription</th>\n",
       "      <th>MarketDataDate</th>\n",
       "      <th>Price</th>\n",
       "      <th>YieldPercent</th>\n",
       "      <th>ZSpreadBp</th>\n",
       "    </tr>\n",
       "  </thead>\n",
       "  <tbody>\n",
       "    <tr>\n",
       "      <th>0</th>\n",
       "      <td>FRGV   0.500 05/25/25</td>\n",
       "      <td>2020-07-05</td>\n",
       "      <td>102</td>\n",
       "      <td>0.089267</td>\n",
       "      <td>44.046415</td>\n",
       "    </tr>\n",
       "    <tr>\n",
       "      <th>1</th>\n",
       "      <td>FRGV         11/25/30</td>\n",
       "      <td>2020-07-05</td>\n",
       "      <td>100</td>\n",
       "      <td>0.0</td>\n",
       "      <td>14.241639</td>\n",
       "    </tr>\n",
       "    <tr>\n",
       "      <th>2</th>\n",
       "      <td>FRGV   0.500 05/25/40</td>\n",
       "      <td>2020-07-05</td>\n",
       "      <td>180</td>\n",
       "      <td>-2.541922</td>\n",
       "      <td>-263.452759</td>\n",
       "    </tr>\n",
       "  </tbody>\n",
       "</table>\n",
       "</div>"
      ],
      "text/plain": [
       "   InstrumentDescription MarketDataDate  Price  YieldPercent   ZSpreadBp\n",
       "0  FRGV   0.500 05/25/25     2020-07-05    102      0.089267   44.046415\n",
       "1  FRGV         11/25/30     2020-07-05    100           0.0   14.241639\n",
       "2  FRGV   0.500 05/25/40     2020-07-05    180     -2.541922 -263.452759"
      ]
     },
     "execution_count": 7,
     "metadata": {},
     "output_type": "execute_result"
    }
   ],
   "source": [
    "response = rdf.Definitions(\n",
    "\n",
    "    universe=[\n",
    "        bond.Definition(\n",
    "            instrument_code=\"FR5YT=RR\",\n",
    "            pricing_parameters=bond.PricingParameters(price=102)\n",
    "        ),\n",
    "        bond.Definition(\n",
    "            instrument_code=\"FR10YT=RR\",\n",
    "            pricing_parameters=bond.PricingParameters(price=100)),\n",
    "        bond.Definition(\n",
    "            instrument_code=\"FR20YT=RR\",\n",
    "            pricing_parameters=bond.PricingParameters(price=180)\n",
    "        )\n",
    "    ],\n",
    "    pricing_parameters=bond.PricingParameters(\n",
    "        market_data_date=\"2020-07-05\",\n",
    "        price_side=bond.PriceSide.BID\n",
    "    ),\n",
    "\n",
    "    fields=[\n",
    "        \"InstrumentDescription\",\n",
    "        \"MarketDataDate\",\n",
    "        \"Price\",\n",
    "        \"YieldPercent\",\n",
    "        \"ZSpreadBp\"]\n",
    ").get_data()\n",
    "\n",
    "response.data.df\n"
   ]
  },
  {
   "cell_type": "markdown",
   "metadata": {},
   "source": [
    "### User defined Bond \n",
    "\n",
    "In addition it is also possible to model a bond by defining it parmaters. the list of available parameters can be found [here](https://developers.refinitiv.com/refinitiv-data-platform/refinitiv-data-platform-apis/docs?content=72362&type=documentation_item)"
   ]
  },
  {
   "cell_type": "code",
   "execution_count": 8,
   "metadata": {},
   "outputs": [
    {
     "data": {
      "text/html": [
       "<div>\n",
       "<style scoped>\n",
       "    .dataframe tbody tr th:only-of-type {\n",
       "        vertical-align: middle;\n",
       "    }\n",
       "\n",
       "    .dataframe tbody tr th {\n",
       "        vertical-align: top;\n",
       "    }\n",
       "\n",
       "    .dataframe thead th {\n",
       "        text-align: right;\n",
       "    }\n",
       "</style>\n",
       "<table border=\"1\" class=\"dataframe\">\n",
       "  <thead>\n",
       "    <tr style=\"text-align: right;\">\n",
       "      <th></th>\n",
       "      <th>InstrumentDescription</th>\n",
       "      <th>MarketDataDate</th>\n",
       "      <th>MarketValueInDealCcy</th>\n",
       "      <th>Price</th>\n",
       "      <th>YieldPercent</th>\n",
       "      <th>ModifiedDuration</th>\n",
       "    </tr>\n",
       "  </thead>\n",
       "  <tbody>\n",
       "    <tr>\n",
       "      <th>0</th>\n",
       "      <td>&lt;NA&gt;</td>\n",
       "      <td>2023-03-07 06:16:28</td>\n",
       "      <td>9990.201485</td>\n",
       "      <td>99.902015</td>\n",
       "      <td>0.1</td>\n",
       "      <td>0.979842</td>\n",
       "    </tr>\n",
       "  </tbody>\n",
       "</table>\n",
       "</div>"
      ],
      "text/plain": [
       "   InstrumentDescription      MarketDataDate  MarketValueInDealCcy      Price  \\\n",
       "0                   <NA> 2023-03-07 06:16:28           9990.201485  99.902015   \n",
       "\n",
       "   YieldPercent  ModifiedDuration  \n",
       "0           0.1          0.979842  "
      ]
     },
     "execution_count": 8,
     "metadata": {},
     "output_type": "execute_result"
    }
   ],
   "source": [
    "response = rdf.Definitions(\n",
    "\n",
    "    universe=[\n",
    "        bond.Definition(\n",
    "            issue_date=\"2020-02-28\",\n",
    "            end_date=\"2024-02-28\",\n",
    "            notional_ccy=\"EUR\",\n",
    "            notional_amount=10000,\n",
    "            interest_payment_frequency=\"Zero\",\n",
    "            fixed_rate_percent=0,\n",
    "            interest_calculation_method=\"Dcb_Actual_Actual\",\n",
    "            pricing_parameters=bond.PricingParameters(yield_percent=0.1)),\n",
    "    ],\n",
    "\n",
    "    fields=[\n",
    "        \"InstrumentDescription\",\n",
    "        \"MarketDataDate\",\n",
    "        \"MarketValueInDealCcy\",\n",
    "        \"Price\",\n",
    "        \"YieldPercent\",\n",
    "        \"ModifiedDuration\"]\n",
    ").get_data()\n",
    "\n",
    "response.data.df\n"
   ]
  },
  {
   "cell_type": "markdown",
   "metadata": {},
   "source": [
    "## Close the default session"
   ]
  },
  {
   "cell_type": "code",
   "execution_count": 9,
   "metadata": {},
   "outputs": [],
   "source": [
    "rd.close_session()"
   ]
  },
  {
   "cell_type": "code",
   "execution_count": null,
   "metadata": {},
   "outputs": [],
   "source": []
  }
 ],
 "metadata": {
  "kernelspec": {
   "display_name": "Python 3 (ipykernel)",
   "language": "python",
   "name": "python3"
  },
  "language_info": {
   "codemirror_mode": {
    "name": "ipython",
    "version": 3
   },
   "file_extension": ".py",
   "mimetype": "text/x-python",
   "name": "python",
   "nbconvert_exporter": "python",
   "pygments_lexer": "ipython3",
   "version": "3.9.13"
  },
  "vscode": {
   "interpreter": {
    "hash": "c85fff1d8f64dd81ed62580beef2fa8681baae0ff4c4324d6e96d73878a4932d"
   }
  }
 },
 "nbformat": 4,
 "nbformat_minor": 4
}
