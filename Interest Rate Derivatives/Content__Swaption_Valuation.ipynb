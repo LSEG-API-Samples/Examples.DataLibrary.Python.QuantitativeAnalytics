{
 "cells": [
  {
   "cell_type": "markdown",
   "metadata": {},
   "source": [
    "# Swaption Samples\n",
    "\n",
    "This notebook demonstrates how to access and use the financial-contracts end point of Instrument Pricing Analytics (IPA) and the Refinitiv Data Libraries.\n",
    "\n",
    "\n",
    "##### Learn more\n",
    "\n",
    "To learn more about the Refinitiv Data Library for Python please join the Refinitiv Developer Community. By [registering](https://developers.refinitiv.com/iam/register) and [logging](https://developers.refinitiv.com/content/devportal/en_us/initCookie.html) into the Refinitiv Developer Community portal you will have free access to a number of learning materials like \n",
    " [Quick Start guides](https://developers.refinitiv.com/en/api-catalog/refinitiv-data-platform/refinitiv-data-library-for-python/quick-start), \n",
    " [Tutorials](https://developers.refinitiv.com/en/api-catalog/refinitiv-data-platform/refinitiv-data-library-for-python/tutorials), \n",
    " [Documentation](https://developers.refinitiv.com/en/api-catalog/refinitiv-data-platform/refinitiv-data-library-for-python/documentation)\n",
    " and much more.\n",
    "\n",
    "You may also visit the [API Playground](https://apidocs.refinitiv.com/Apps/ApiDocs) to get more examples, find  end points and download Swagger files\n",
    "\n",
    "##### Getting Help and Support\n",
    "\n",
    "If you have any questions regarding using the API, please post them on \n",
    "the [Refinitiv Data Q&A Forum](https://community.developers.refinitiv.com/spaces/321/index.html). \n",
    "The Refinitiv Developer Community will be happy to help. "
   ]
  },
  {
   "cell_type": "markdown",
   "metadata": {},
   "source": [
    "#### Import the library and connect to the Refinitv Data Libraries"
   ]
  },
  {
   "cell_type": "code",
   "execution_count": 1,
   "metadata": {},
   "outputs": [],
   "source": [
    "import refinitiv.data as rd\n",
    "from refinitiv.data.content.ipa.financial_contracts import swaption\n",
    "from refinitiv.data.content.ipa.financial_contracts import swap"
   ]
  },
  {
   "cell_type": "markdown",
   "metadata": {
    "tags": []
   },
   "source": [
    "## Open the data session\n",
    "\n",
    "The open_session() function creates and open sessions based on the information contained in the refinitiv-data.config.json configuration file. Please edit this file to set the session type and other parameters required for the session you want to open."
   ]
  },
  {
   "cell_type": "code",
   "execution_count": 2,
   "metadata": {},
   "outputs": [
    {
     "data": {
      "text/plain": [
       "<refinitiv.data.session.Definition object at 0x12effb790 {name='workspace'}>"
      ]
     },
     "execution_count": 2,
     "metadata": {},
     "output_type": "execute_result"
    }
   ],
   "source": [
    "rd.open_session()"
   ]
  },
  {
   "cell_type": "markdown",
   "metadata": {},
   "source": [
    "### Valuing an existing Swaption (european exercise)\n",
    "\n",
    "This sample value on 2020-09-12 with market data from 2020-10-09 an existing swaption expiring on 2021-01-20 defined on a standard 6 month euribor swap. The 'fields' requested are:\n",
    "- descriptive fields (\"InstrumentTag\",\"InstrumentDescription\",\"StartDate\",\"EndDate\")\n",
    "- the market value in cash (\"MarketValueInDealCcy\")\n",
    "- the Greeks in amount (\"DeltaAmountInDealCcy\", \"GammaAmountInDealCcy\", \"ThetaAmountInDealCcy\", \"VegaAmountInDealCcy\")\n",
    "- the Greeks in percent (\"DeltaPercent\", \"GammaPercent\", \"ThetaPercent\", \"VegaPercent\")\n",
    "- the names of the zero-coupon curves used for discounting (\"DiscountCurveName\") and estimating forward rates (\"ForwardCurveName\")\n",
    "- the error information (\"ErrorCode\", \"ErrorMessage\")\n"
   ]
  },
  {
   "cell_type": "code",
   "execution_count": 3,
   "metadata": {},
   "outputs": [
    {
     "data": {
      "text/html": [
       "<div>\n",
       "<style scoped>\n",
       "    .dataframe tbody tr th:only-of-type {\n",
       "        vertical-align: middle;\n",
       "    }\n",
       "\n",
       "    .dataframe tbody tr th {\n",
       "        vertical-align: top;\n",
       "    }\n",
       "\n",
       "    .dataframe thead th {\n",
       "        text-align: right;\n",
       "    }\n",
       "</style>\n",
       "<table border=\"1\" class=\"dataframe\">\n",
       "  <thead>\n",
       "    <tr style=\"text-align: right;\">\n",
       "      <th></th>\n",
       "      <th>InstrumentTag</th>\n",
       "      <th>InstrumentDescription</th>\n",
       "      <th>StartDate</th>\n",
       "      <th>EndDate</th>\n",
       "      <th>MarketValueInDealCcy</th>\n",
       "      <th>DeltaAmountInDealCcy</th>\n",
       "      <th>DeltaPercent</th>\n",
       "      <th>GammaAmountInDealCcy</th>\n",
       "      <th>GammaPercent</th>\n",
       "      <th>ThetaAmountInDealCcy</th>\n",
       "      <th>ThetaPercent</th>\n",
       "      <th>VegaAmountInDealCcy</th>\n",
       "      <th>VegaPercent</th>\n",
       "      <th>DiscountCurveName</th>\n",
       "      <th>ForwardCurveName</th>\n",
       "      <th>ErrorCode</th>\n",
       "      <th>ErrorMessage</th>\n",
       "    </tr>\n",
       "  </thead>\n",
       "  <tbody>\n",
       "    <tr>\n",
       "      <th>0</th>\n",
       "      <td>EUR_6M_5Y_pay</td>\n",
       "      <td>Long payer EURO 4M x 5Y Swaption</td>\n",
       "      <td>2021-01-22</td>\n",
       "      <td>2026-01-22</td>\n",
       "      <td>80.292339</td>\n",
       "      <td>8.28755</td>\n",
       "      <td>0.082876</td>\n",
       "      <td>0.764256</td>\n",
       "      <td>76.425594</td>\n",
       "      <td>-2.156854</td>\n",
       "      <td>-0.000002</td>\n",
       "      <td>12.31855</td>\n",
       "      <td>0.123185</td>\n",
       "      <td>EUR EURIBOR 6M</td>\n",
       "      <td>EUR EURIBOR 6M</td>\n",
       "      <td></td>\n",
       "      <td></td>\n",
       "    </tr>\n",
       "  </tbody>\n",
       "</table>\n",
       "</div>"
      ],
      "text/plain": [
       "   InstrumentTag             InstrumentDescription  StartDate    EndDate  \\\n",
       "0  EUR_6M_5Y_pay  Long payer EURO 4M x 5Y Swaption 2021-01-22 2026-01-22   \n",
       "\n",
       "   MarketValueInDealCcy  DeltaAmountInDealCcy  DeltaPercent  \\\n",
       "0             80.292339               8.28755      0.082876   \n",
       "\n",
       "   GammaAmountInDealCcy  GammaPercent  ThetaAmountInDealCcy  ThetaPercent  \\\n",
       "0              0.764256     76.425594             -2.156854     -0.000002   \n",
       "\n",
       "   VegaAmountInDealCcy  VegaPercent DiscountCurveName ForwardCurveName  \\\n",
       "0             12.31855     0.123185    EUR EURIBOR 6M   EUR EURIBOR 6M   \n",
       "\n",
       "  ErrorCode ErrorMessage  \n",
       "0                         "
      ]
     },
     "execution_count": 3,
     "metadata": {},
     "output_type": "execute_result"
    }
   ],
   "source": [
    "response = swaption.Definition(\n",
    "\n",
    "    instrument_tag=\"EUR_6M_5Y_pay\",\n",
    "    settlement_type=swaption.SwaptionSettlementType.PHYSICAL,\n",
    "    notional_amount=1000000,\n",
    "    strike_percent=0.213736199,\n",
    "    buy_sell=swaption.BuySell.BUY,\n",
    "    swaption_type=swaption.SwaptionType.PAYER,\n",
    "    end_date=\"2021-01-20\",\n",
    "    exercise_style=swaption.ExerciseStyle.EURO,\n",
    "    underlying_definition=swap.Definition(\n",
    "        tenor=\"5Y\",\n",
    "        template=\"EUR_AB6E\"\n",
    "    ),\n",
    "    pricing_parameters=swaption.PricingParameters(\n",
    "        market_data_date=\"2020-09-10\",\n",
    "        valuation_date=\"2020-09-12\"\n",
    "    ),\n",
    "    fields=[\"InstrumentTag\",\n",
    "            \"InstrumentDescription\",\n",
    "            \"StartDate\",\n",
    "            \"EndDate\",\n",
    "            \"MarketValueInDealCcy\",\n",
    "            \"DeltaAmountInDealCcy\",\n",
    "            \"DeltaPercent\",\n",
    "            \"GammaAmountInDealCcy\",\n",
    "            \"GammaPercent\",\n",
    "            \"ThetaAmountInDealCcy\",\n",
    "            \"ThetaPercent\",\n",
    "            \"VegaAmountInDealCcy\",\n",
    "            \"VegaPercent\",\n",
    "            \"DiscountCurveName\",\n",
    "            \"ForwardCurveName\",\n",
    "            \"ErrorCode\",\n",
    "            \"ErrorMessage\"]\n",
    ").get_data()\n",
    "\n",
    "response.data.df"
   ]
  },
  {
   "cell_type": "code",
   "execution_count": 4,
   "metadata": {},
   "outputs": [],
   "source": [
    "rd.close_session()"
   ]
  },
  {
   "cell_type": "code",
   "execution_count": null,
   "metadata": {},
   "outputs": [],
   "source": []
  }
 ],
 "metadata": {
  "kernelspec": {
   "display_name": "Python 3 (ipykernel)",
   "language": "python",
   "name": "python3"
  },
  "language_info": {
   "codemirror_mode": {
    "name": "ipython",
    "version": 3
   },
   "file_extension": ".py",
   "mimetype": "text/x-python",
   "name": "python",
   "nbconvert_exporter": "python",
   "pygments_lexer": "ipython3",
   "version": "3.9.13"
  },
  "vscode": {
   "interpreter": {
    "hash": "c85fff1d8f64dd81ed62580beef2fa8681baae0ff4c4324d6e96d73878a4932d"
   }
  }
 },
 "nbformat": 4,
 "nbformat_minor": 4
}
