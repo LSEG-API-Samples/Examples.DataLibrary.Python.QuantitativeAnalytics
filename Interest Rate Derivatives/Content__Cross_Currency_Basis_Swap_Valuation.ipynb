{
 "cells": [
  {
   "cell_type": "markdown",
   "metadata": {},
   "source": [
    "# Cross Currency Swap Samples\n",
    "\n",
    "This notebook demonstrates how to access and use the financial-contracts end point of Instrument Pricing Analytics (IPA) and the Refinitiv Data Libraries.\n",
    "\n",
    "##### Learn more\n",
    "\n",
    "To learn more about the Refinitiv Data Library for Python please join the Refinitiv Developer Community. By [registering](https://developers.refinitiv.com/iam/register) and [logging](https://developers.refinitiv.com/content/devportal/en_us/initCookie.html) into the Refinitiv Developer Community portal you will have free access to a number of learning materials like \n",
    " [Quick Start guides](https://developers.refinitiv.com/en/api-catalog/refinitiv-data-platform/refinitiv-data-library-for-python/quick-start), \n",
    " [Tutorials](https://developers.refinitiv.com/en/api-catalog/refinitiv-data-platform/refinitiv-data-library-for-python/tutorials), \n",
    " [Documentation](https://developers.refinitiv.com/en/api-catalog/refinitiv-data-platform/refinitiv-data-library-for-python/documentation)\n",
    " and much more.\n",
    "\n",
    "You may also visit the [API Playground](https://apidocs.refinitiv.com/Apps/ApiDocs) to get more examples, find  end points and download Swagger files\n",
    "\n",
    "##### Getting Help and Support\n",
    "\n",
    "If you have any questions regarding using the API, please post them on \n",
    "the [Refinitiv Data Q&A Forum](https://community.developers.refinitiv.com/spaces/321/index.html). \n",
    "The Refinitiv Developer Community will be happy to help. "
   ]
  },
  {
   "cell_type": "markdown",
   "metadata": {},
   "source": [
    "#### Import the library and connect to the Refinitv Data libraries"
   ]
  },
  {
   "cell_type": "code",
   "execution_count": 1,
   "metadata": {},
   "outputs": [],
   "source": [
    "import refinitiv.data as rd\n",
    "from refinitiv.data.content.ipa.financial_contracts import swap"
   ]
  },
  {
   "cell_type": "markdown",
   "metadata": {},
   "source": [
    "## Open the data session\n",
    "\n",
    "The open_session() function creates and open sessions based on the information contained in the refinitiv-data.config.json configuration file. Please edit this file to set the session type and other parameters required for the session you want to open."
   ]
  },
  {
   "cell_type": "code",
   "execution_count": 2,
   "metadata": {},
   "outputs": [
    {
     "data": {
      "text/plain": [
       "<refinitiv.data.session.Definition object at 0x110a9c430 {name='workspace'}>"
      ]
     },
     "execution_count": 2,
     "metadata": {},
     "output_type": "execute_result"
    }
   ],
   "source": [
    "rd.open_session()"
   ]
  },
  {
   "cell_type": "markdown",
   "metadata": {},
   "source": [
    "### Valuing a Cross Currency Basis Swap\n",
    "\n",
    "This sample value an existing basis swap defined leg by leg for a complete control of its term and conditions. The 'fields' requested are:\n",
    "- the market value in cash (CleanMarketValueInDealCcy, MarketValueInDealCcy, AccruedAmountInDealCcy)\n",
    "- their equivalent in in percent (AccruedPercent,CleanPricePercent,DirtyPricePercent,CleanPricePercent)\n",
    "- the PV01 (PV01Bp,PV01AmountInDealCcy)\n",
    "- the names of the zero-coupon curves used (DiscountCurveName,ForwardCurveName)\n",
    "- the error information (ErrorCode,ErrorMessage)\n"
   ]
  },
  {
   "cell_type": "code",
   "execution_count": 3,
   "metadata": {},
   "outputs": [
    {
     "data": {
      "text/html": [
       "<div>\n",
       "<style scoped>\n",
       "    .dataframe tbody tr th:only-of-type {\n",
       "        vertical-align: middle;\n",
       "    }\n",
       "\n",
       "    .dataframe tbody tr th {\n",
       "        vertical-align: top;\n",
       "    }\n",
       "\n",
       "    .dataframe thead th {\n",
       "        text-align: right;\n",
       "    }\n",
       "</style>\n",
       "<table border=\"1\" class=\"dataframe\">\n",
       "  <thead>\n",
       "    <tr style=\"text-align: right;\">\n",
       "      <th></th>\n",
       "      <th>InstrumentTag</th>\n",
       "      <th>MarketValueInDealCcy</th>\n",
       "      <th>DirtyPricePercent</th>\n",
       "      <th>FixedRatePercent</th>\n",
       "      <th>SpreadBp</th>\n",
       "      <th>PV01Bp</th>\n",
       "      <th>PV01AmountInDealCcy</th>\n",
       "      <th>DiscountCurveName</th>\n",
       "      <th>ForwardCurveName</th>\n",
       "      <th>ErrorCode</th>\n",
       "      <th>ErrorMessage</th>\n",
       "    </tr>\n",
       "  </thead>\n",
       "  <tbody>\n",
       "    <tr>\n",
       "      <th>0</th>\n",
       "      <td>CCSwap-LIBOR6M-EURIBOR6M-5Y</td>\n",
       "      <td>1001129.811005</td>\n",
       "      <td>100.112981</td>\n",
       "      <td>&lt;NA&gt;</td>\n",
       "      <td>0</td>\n",
       "      <td>0.272906</td>\n",
       "      <td>27.290626</td>\n",
       "      <td>USD LIBOR 6M</td>\n",
       "      <td>USD LIBOR 6M</td>\n",
       "      <td></td>\n",
       "      <td></td>\n",
       "    </tr>\n",
       "    <tr>\n",
       "      <th>1</th>\n",
       "      <td>CCSwap-LIBOR6M-EURIBOR6M-5Y</td>\n",
       "      <td>1068325.025884</td>\n",
       "      <td>99.594672</td>\n",
       "      <td>&lt;NA&gt;</td>\n",
       "      <td>-10</td>\n",
       "      <td>0.266379</td>\n",
       "      <td>28.573734</td>\n",
       "      <td>USD LIBOR 6M disc. EUR EURIBOR 6M</td>\n",
       "      <td>EUR EURIBOR 6M</td>\n",
       "      <td></td>\n",
       "      <td></td>\n",
       "    </tr>\n",
       "  </tbody>\n",
       "</table>\n",
       "</div>"
      ],
      "text/plain": [
       "                 InstrumentTag  MarketValueInDealCcy  DirtyPricePercent  \\\n",
       "0  CCSwap-LIBOR6M-EURIBOR6M-5Y        1001129.811005         100.112981   \n",
       "1  CCSwap-LIBOR6M-EURIBOR6M-5Y        1068325.025884          99.594672   \n",
       "\n",
       "   FixedRatePercent  SpreadBp    PV01Bp  PV01AmountInDealCcy  \\\n",
       "0              <NA>         0  0.272906            27.290626   \n",
       "1              <NA>       -10  0.266379            28.573734   \n",
       "\n",
       "                   DiscountCurveName ForwardCurveName ErrorCode ErrorMessage  \n",
       "0                       USD LIBOR 6M     USD LIBOR 6M                         \n",
       "1  USD LIBOR 6M disc. EUR EURIBOR 6M   EUR EURIBOR 6M                         "
      ]
     },
     "execution_count": 3,
     "metadata": {},
     "output_type": "execute_result"
    }
   ],
   "source": [
    "response = swap.Definition(\n",
    "    instrument_tag=\"CCSwap-LIBOR6M-EURIBOR6M-5Y\",\n",
    "    start_date=\"2020-01-28\",\n",
    "    tenor=\"5Y\",\n",
    "    legs=[\n",
    "        swap.LegDefinition(\n",
    "            direction=swap.Direction.PAID,\n",
    "            notional_ccy=\"USD\",\n",
    "            interest_payment_frequency=swap.Frequency.SEMI_ANNUAL,\n",
    "            index_name=\"LIBOR\",\n",
    "            interest_type=swap.InterestType.FLOAT,\n",
    "            spread_bp=0,\n",
    "            index_tenor=\"6M\",\n",
    "            interest_calculation_method=\"Dcb_Actual_360\"\n",
    "        ),\n",
    "        swap.LegDefinition(\n",
    "            direction=swap.Direction.RECEIVED,\n",
    "            notional_ccy=\"EUR\",\n",
    "            interest_payment_frequency=swap.Frequency.SEMI_ANNUAL,\n",
    "            index_name=\"EURIBOR\",\n",
    "            interest_type=swap.InterestType.FLOAT,\n",
    "            spread_bp=-10,\n",
    "            index_tenor=\"6M\",\n",
    "            interest_calculation_method=\"Dcb_Actual_360\"\n",
    "        ),\n",
    "    ],\n",
    "    pricing_parameters=swap.PricingParameters(\n",
    "        valuation_date=\"2020-10-20T00:00:00Z\"\n",
    "    ),\n",
    "    fields=[\"InstrumentTag\",\n",
    "            \"MarketValueInDealCcy\",\n",
    "            \"DirtyPricePercent\",\n",
    "            \"FixedRatePercent\",\n",
    "            \"SpreadBp\",\n",
    "            \"PV01Bp\",\n",
    "            \"PV01AmountInDealCcy\",\n",
    "            \"DiscountCurveName\",\n",
    "            \"ForwardCurveName\",\n",
    "            \"ErrorCode\",\n",
    "            \"ErrorMessage\"]\n",
    "\n",
    ").get_data()\n",
    "\n",
    "response.data.df"
   ]
  },
  {
   "cell_type": "code",
   "execution_count": 4,
   "metadata": {},
   "outputs": [],
   "source": [
    "rd.close_session()"
   ]
  },
  {
   "cell_type": "code",
   "execution_count": null,
   "metadata": {},
   "outputs": [],
   "source": []
  }
 ],
 "metadata": {
  "kernelspec": {
   "display_name": "Python 3 (ipykernel)",
   "language": "python",
   "name": "python3"
  },
  "language_info": {
   "codemirror_mode": {
    "name": "ipython",
    "version": 3
   },
   "file_extension": ".py",
   "mimetype": "text/x-python",
   "name": "python",
   "nbconvert_exporter": "python",
   "pygments_lexer": "ipython3",
   "version": "3.9.13"
  },
  "vscode": {
   "interpreter": {
    "hash": "c85fff1d8f64dd81ed62580beef2fa8681baae0ff4c4324d6e96d73878a4932d"
   }
  }
 },
 "nbformat": 4,
 "nbformat_minor": 4
}
