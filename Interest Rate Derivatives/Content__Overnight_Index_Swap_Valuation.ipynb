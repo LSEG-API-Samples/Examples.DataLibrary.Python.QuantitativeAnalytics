{
 "cells": [
  {
   "cell_type": "markdown",
   "metadata": {},
   "source": [
    "# Overnight Index Swap Samples\n",
    "\n",
    "This notebook demonstrates how to access and use the financial-contracts end point of Instrument Pricing Analytics (IPA) and the Refinitiv Data Libraries.\n",
    "\n",
    "##### Learn more\n",
    "\n",
    "To learn more about the Refinitiv Data Library for Python please join the Refinitiv Developer Community. By [registering](https://developers.refinitiv.com/iam/register) and [logging](https://developers.refinitiv.com/content/devportal/en_us/initCookie.html) into the Refinitiv Developer Community portal you will have free access to a number of learning materials like \n",
    " [Quick Start guides](https://developers.refinitiv.com/en/api-catalog/refinitiv-data-platform/refinitiv-data-library-for-python/quick-start), \n",
    " [Tutorials](https://developers.refinitiv.com/en/api-catalog/refinitiv-data-platform/refinitiv-data-library-for-python/tutorials), \n",
    " [Documentation](https://developers.refinitiv.com/en/api-catalog/refinitiv-data-platform/refinitiv-data-library-for-python/documentation)\n",
    " and much more.\n",
    "\n",
    "You may also visit the [API Playground](https://apidocs.refinitiv.com/Apps/ApiDocs) to get more examples, find  end points and download Swagger files\n",
    "\n",
    "##### Getting Help and Support\n",
    "\n",
    "If you have any questions regarding using the API, please post them on \n",
    "the [Refinitiv Data Q&A Forum](https://community.developers.refinitiv.com/spaces/321/index.html). \n",
    "The Refinitiv Developer Community will be happy to help. "
   ]
  },
  {
   "cell_type": "markdown",
   "metadata": {},
   "source": [
    "#### Import the library and connect to the Refinitv Data Libraries"
   ]
  },
  {
   "cell_type": "code",
   "execution_count": 1,
   "metadata": {},
   "outputs": [],
   "source": [
    "import refinitiv.data as rd\n",
    "from refinitiv.data.content.ipa.financial_contracts import swap"
   ]
  },
  {
   "cell_type": "markdown",
   "metadata": {},
   "source": [
    "## Open the data session\n",
    "\n",
    "The open_session() function creates and open sessions based on the information contained in the refinitiv-data.config.json configuration file. Please edit this file to set the session type and other parameters required for the session you want to open."
   ]
  },
  {
   "cell_type": "code",
   "execution_count": 2,
   "metadata": {},
   "outputs": [
    {
     "data": {
      "text/plain": [
       "<refinitiv.data.session.Definition object at 0x148122790 {name='workspace'}>"
      ]
     },
     "execution_count": 2,
     "metadata": {},
     "output_type": "execute_result"
    }
   ],
   "source": [
    "rd.open_session()"
   ]
  },
  {
   "cell_type": "markdown",
   "metadata": {},
   "source": [
    "### Valuing an Overnight Index Swap\n",
    "\n",
    "This sample value an existing basis swap defined leg by leg for a complete control of its term and conditions. The 'fields' requested are:\n",
    "- the market value in cash (CleanMarketValueInDealCcy, MarketValueInDealCcy, AccruedAmountInDealCcy)\n",
    "- their equivalent in in percent (AccruedPercent,CleanPricePercent,DirtyPricePercent,CleanPricePercent)\n",
    "- the PV01 (PV01Bp,PV01AmountInDealCcy)\n",
    "- the names of the zero-coupon curves used (DiscountCurveName,ForwardCurveName)\n",
    "- the error information (ErrorCode,ErrorMessage)\n"
   ]
  },
  {
   "cell_type": "code",
   "execution_count": 3,
   "metadata": {},
   "outputs": [
    {
     "data": {
      "text/html": [
       "<div>\n",
       "<style scoped>\n",
       "    .dataframe tbody tr th:only-of-type {\n",
       "        vertical-align: middle;\n",
       "    }\n",
       "\n",
       "    .dataframe tbody tr th {\n",
       "        vertical-align: top;\n",
       "    }\n",
       "\n",
       "    .dataframe thead th {\n",
       "        text-align: right;\n",
       "    }\n",
       "</style>\n",
       "<table border=\"1\" class=\"dataframe\">\n",
       "  <thead>\n",
       "    <tr style=\"text-align: right;\">\n",
       "      <th></th>\n",
       "      <th>InstrumentTag</th>\n",
       "      <th>MarketValueInDealCcy</th>\n",
       "      <th>DirtyPricePercent</th>\n",
       "      <th>FixedRatePercent</th>\n",
       "      <th>SpreadBp</th>\n",
       "      <th>PV01Bp</th>\n",
       "      <th>PV01AmountInDealCcy</th>\n",
       "      <th>DiscountCurveName</th>\n",
       "      <th>ForwardCurveName</th>\n",
       "      <th>ErrorCode</th>\n",
       "      <th>ErrorMessage</th>\n",
       "    </tr>\n",
       "  </thead>\n",
       "  <tbody>\n",
       "    <tr>\n",
       "      <th>0</th>\n",
       "      <td>OIS-EONIA-2Y</td>\n",
       "      <td>-7136.258479</td>\n",
       "      <td>-0.713626</td>\n",
       "      <td>-0.35</td>\n",
       "      <td>&lt;NA&gt;</td>\n",
       "      <td>-0.005552</td>\n",
       "      <td>-0.555244</td>\n",
       "      <td>EUR - OIS EONIA</td>\n",
       "      <td>&lt;NA&gt;</td>\n",
       "      <td></td>\n",
       "      <td></td>\n",
       "    </tr>\n",
       "    <tr>\n",
       "      <th>1</th>\n",
       "      <td>OIS-EONIA-2Y</td>\n",
       "      <td>-8011.863886</td>\n",
       "      <td>-0.801186</td>\n",
       "      <td>&lt;NA&gt;</td>\n",
       "      <td>0</td>\n",
       "      <td>-1.289</td>\n",
       "      <td>-128.900001</td>\n",
       "      <td>EUR - OIS EONIA</td>\n",
       "      <td>EUR - OIS EONIA</td>\n",
       "      <td></td>\n",
       "      <td></td>\n",
       "    </tr>\n",
       "  </tbody>\n",
       "</table>\n",
       "</div>"
      ],
      "text/plain": [
       "  InstrumentTag  MarketValueInDealCcy  DirtyPricePercent  FixedRatePercent  \\\n",
       "0  OIS-EONIA-2Y          -7136.258479          -0.713626             -0.35   \n",
       "1  OIS-EONIA-2Y          -8011.863886          -0.801186              <NA>   \n",
       "\n",
       "   SpreadBp    PV01Bp  PV01AmountInDealCcy DiscountCurveName ForwardCurveName  \\\n",
       "0      <NA> -0.005552            -0.555244   EUR - OIS EONIA             <NA>   \n",
       "1         0    -1.289          -128.900001   EUR - OIS EONIA  EUR - OIS EONIA   \n",
       "\n",
       "  ErrorCode ErrorMessage  \n",
       "0                         \n",
       "1                         "
      ]
     },
     "execution_count": 3,
     "metadata": {},
     "output_type": "execute_result"
    }
   ],
   "source": [
    "response = swap.Definition(\n",
    "    instrument_tag=\"OIS-EONIA-2Y\",\n",
    "    start_date=\"2020-01-28\",\n",
    "    tenor=\"2Y\",\n",
    "    legs=[\n",
    "        swap.LegDefinition(\n",
    "            direction=swap.Direction.PAID,\n",
    "            notional_ccy=\"EUR\",\n",
    "            interest_payment_frequency=swap.Frequency.ANNUAL,\n",
    "            interest_type=swap.InterestType.FIXED,\n",
    "            interest_calculation_method=\"Dcb_Actual_360\",\n",
    "            fixed_rate_percent=-0.35\n",
    "        ),\n",
    "        swap.LegDefinition(\n",
    "            direction=swap.Direction.RECEIVED,\n",
    "            notional_ccy=\"EUR\",\n",
    "            interest_payment_frequency=swap.Frequency.QUARTERLY,\n",
    "            index_name=\"EONIA\",\n",
    "            interest_type=swap.InterestType.FLOAT,\n",
    "            interest_calculation_method=\"Dcb_Actual_360\",\n",
    "            index_tenor=\"ON\",\n",
    "            spread_bp=0,\n",
    "        ),\n",
    "    ],\n",
    "    pricing_parameters=swap.PricingParameters(\n",
    "        valuation_date=\"2020-10-20T00:00:00Z\"\n",
    "    ),\n",
    "    fields=[\"InstrumentTag\",\n",
    "            \"MarketValueInDealCcy\",\n",
    "            \"DirtyPricePercent\",\n",
    "            \"FixedRatePercent\",\n",
    "            \"SpreadBp\",\n",
    "            \"PV01Bp\",\n",
    "            \"PV01AmountInDealCcy\",\n",
    "            \"DiscountCurveName\",\n",
    "            \"ForwardCurveName\",\n",
    "            \"ErrorCode\",\n",
    "            \"ErrorMessage\"],\n",
    ").get_data()\n",
    "\n",
    "response.data.df"
   ]
  },
  {
   "cell_type": "code",
   "execution_count": 4,
   "metadata": {},
   "outputs": [],
   "source": [
    "rd.close_session()"
   ]
  },
  {
   "cell_type": "code",
   "execution_count": null,
   "metadata": {},
   "outputs": [],
   "source": []
  }
 ],
 "metadata": {
  "kernelspec": {
   "display_name": "Python 3 (ipykernel)",
   "language": "python",
   "name": "python3"
  },
  "language_info": {
   "codemirror_mode": {
    "name": "ipython",
    "version": 3
   },
   "file_extension": ".py",
   "mimetype": "text/x-python",
   "name": "python",
   "nbconvert_exporter": "python",
   "pygments_lexer": "ipython3",
   "version": "3.9.13"
  },
  "vscode": {
   "interpreter": {
    "hash": "c85fff1d8f64dd81ed62580beef2fa8681baae0ff4c4324d6e96d73878a4932d"
   }
  }
 },
 "nbformat": 4,
 "nbformat_minor": 4
}
