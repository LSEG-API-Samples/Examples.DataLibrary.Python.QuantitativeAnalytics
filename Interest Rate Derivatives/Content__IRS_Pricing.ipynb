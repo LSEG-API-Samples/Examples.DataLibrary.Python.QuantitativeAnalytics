{
 "cells": [
  {
   "cell_type": "markdown",
   "metadata": {},
   "source": [
    "# Swap Samples\n",
    "\n",
    "This notebook demonstrates how to access and use the financial-contracts end point of Instrument Pricing Analytics (IPA) and the Refinitiv Data Libraries.\n",
    "\n",
    "##### Learn more\n",
    "\n",
    "To learn more about the Refinitiv Data Library for Python please join the Refinitiv Developer Community. By [registering](https://developers.refinitiv.com/iam/register) and [logging](https://developers.refinitiv.com/content/devportal/en_us/initCookie.html) into the Refinitiv Developer Community portal you will have free access to a number of learning materials like \n",
    " [Quick Start guides](https://developers.refinitiv.com/en/api-catalog/refinitiv-data-platform/refinitiv-data-library-for-python/quick-start), \n",
    " [Tutorials](https://developers.refinitiv.com/en/api-catalog/refinitiv-data-platform/refinitiv-data-library-for-python/tutorials), \n",
    " [Documentation](https://developers.refinitiv.com/en/api-catalog/refinitiv-data-platform/refinitiv-data-library-for-python/documentation)\n",
    " and much more.\n",
    "\n",
    "You may also visit the [API Playground](https://apidocs.refinitiv.com/Apps/ApiDocs) to get more examples, find  end points and download Swagger files\n",
    "\n",
    "##### Getting Help and Support\n",
    "\n",
    "If you have any questions regarding using the API, please post them on \n",
    "the [Refinitiv Data Q&A Forum](https://community.developers.refinitiv.com/spaces/321/index.html). \n",
    "The Refinitiv Developer Community will be happy to help. "
   ]
  },
  {
   "cell_type": "markdown",
   "metadata": {},
   "source": [
    "#### Import the library and connect to the Refinitv Data Libraries"
   ]
  },
  {
   "cell_type": "code",
   "execution_count": 1,
   "metadata": {},
   "outputs": [],
   "source": [
    "import refinitiv.data as rd\n",
    "from refinitiv.data.content.ipa.financial_contracts import swap"
   ]
  },
  {
   "cell_type": "markdown",
   "metadata": {},
   "source": [
    "## Open the data session\n",
    "\n",
    "The open_session() function creates and open sessions based on the information contained in the refinitiv-data.config.json configuration file. Please edit this file to set the session type and other parameters required for the session you want to open."
   ]
  },
  {
   "cell_type": "code",
   "execution_count": 2,
   "metadata": {},
   "outputs": [
    {
     "data": {
      "text/plain": [
       "<refinitiv.data.session.Definition object at 0x1036202b0 {name='workspace'}>"
      ]
     },
     "execution_count": 2,
     "metadata": {},
     "output_type": "execute_result"
    }
   ],
   "source": [
    "rd.open_session()"
   ]
  },
  {
   "cell_type": "markdown",
   "metadata": {},
   "source": [
    "### Pricing a Vanilla IRS\n",
    "\n",
    "This sample price a swap defined leg by leg for a complete control of its term and conditions. The 'fields' requested are:\n",
    "- the gross price in percent (DirtyPricePercent), which is set to null for the solving process\n",
    "- the fixedRatePercent of the fixed leg\n",
    "- the spreadBp over the index of the float leg\n",
    "- the PV01 (PV01Bp,PV01AmountInDealCcy)\n",
    "- the names of the zero-coupon curves used (DiscountCurveName,ForwardCurveName)\n",
    "- the error information (ErrorCode,ErrorMessage)\n",
    "\n",
    "Solving Workflow:\n",
    "- if neither fixedRatePercent nor spreadBp are defined in the legs, spreadBp is considered null and fixedRatePercent is solved so that the DirtyPricePercent of both legs match\n",
    "- if the spreadBp value is set, fixedRatePercent is solved so that the DirtyPricePercent of both legs match\n",
    "- if fixedRatePercent value is set, spreadBp is solved so that the DirtyPricePercent of both legs match\n"
   ]
  },
  {
   "cell_type": "code",
   "execution_count": 3,
   "metadata": {},
   "outputs": [
    {
     "data": {
      "text/html": [
       "<div>\n",
       "<style scoped>\n",
       "    .dataframe tbody tr th:only-of-type {\n",
       "        vertical-align: middle;\n",
       "    }\n",
       "\n",
       "    .dataframe tbody tr th {\n",
       "        vertical-align: top;\n",
       "    }\n",
       "\n",
       "    .dataframe thead th {\n",
       "        text-align: right;\n",
       "    }\n",
       "</style>\n",
       "<table border=\"1\" class=\"dataframe\">\n",
       "  <thead>\n",
       "    <tr style=\"text-align: right;\">\n",
       "      <th></th>\n",
       "      <th>InstrumentTag</th>\n",
       "      <th>DirtyPricePercent</th>\n",
       "      <th>FixedRatePercent</th>\n",
       "      <th>SpreadBp</th>\n",
       "      <th>PV01Bp</th>\n",
       "      <th>PV01AmountInDealCcy</th>\n",
       "      <th>DiscountCurveName</th>\n",
       "      <th>ForwardCurveName</th>\n",
       "      <th>ErrorCode</th>\n",
       "      <th>ErrorMessage</th>\n",
       "    </tr>\n",
       "  </thead>\n",
       "  <tbody>\n",
       "    <tr>\n",
       "      <th>0</th>\n",
       "      <td>IRS-EURIBOR-5Y</td>\n",
       "      <td>-1.126908</td>\n",
       "      <td>-0.223562</td>\n",
       "      <td>&lt;NA&gt;</td>\n",
       "      <td>-0.034005</td>\n",
       "      <td>-3.40048</td>\n",
       "      <td>EUR - Swap vs 6M Euribor</td>\n",
       "      <td>&lt;NA&gt;</td>\n",
       "      <td></td>\n",
       "      <td></td>\n",
       "    </tr>\n",
       "    <tr>\n",
       "      <th>1</th>\n",
       "      <td>IRS-EURIBOR-5Y</td>\n",
       "      <td>-1.126908</td>\n",
       "      <td>&lt;NA&gt;</td>\n",
       "      <td>0</td>\n",
       "      <td>-4.569057</td>\n",
       "      <td>-456.905679</td>\n",
       "      <td>EUR - Swap vs 6M Euribor</td>\n",
       "      <td>EUR - Swap vs 6M Euribor</td>\n",
       "      <td></td>\n",
       "      <td></td>\n",
       "    </tr>\n",
       "  </tbody>\n",
       "</table>\n",
       "</div>"
      ],
      "text/plain": [
       "    InstrumentTag  DirtyPricePercent  FixedRatePercent  SpreadBp    PV01Bp  \\\n",
       "0  IRS-EURIBOR-5Y          -1.126908         -0.223562      <NA> -0.034005   \n",
       "1  IRS-EURIBOR-5Y          -1.126908              <NA>         0 -4.569057   \n",
       "\n",
       "   PV01AmountInDealCcy         DiscountCurveName          ForwardCurveName  \\\n",
       "0             -3.40048  EUR - Swap vs 6M Euribor                      <NA>   \n",
       "1          -456.905679  EUR - Swap vs 6M Euribor  EUR - Swap vs 6M Euribor   \n",
       "\n",
       "  ErrorCode ErrorMessage  \n",
       "0                         \n",
       "1                         "
      ]
     },
     "execution_count": 3,
     "metadata": {},
     "output_type": "execute_result"
    }
   ],
   "source": [
    "response = swap.Definition(\n",
    "    instrument_tag=\"IRS-EURIBOR-5Y\",\n",
    "    start_date=\"2020-01-28\",\n",
    "    tenor=\"5Y\",\n",
    "    legs=[\n",
    "        swap.LegDefinition(\n",
    "            direction=swap.Direction.PAID,\n",
    "            notional_ccy=\"EUR\",\n",
    "            interest_payment_frequency=swap.Frequency.ANNUAL,\n",
    "            interest_type=swap.InterestType.FIXED,\n",
    "            interest_calculation_method=\"Dcb_30_360\",\n",
    "        ),\n",
    "        swap.LegDefinition(\n",
    "            direction=swap.Direction.RECEIVED,\n",
    "            notional_ccy=\"EUR\",\n",
    "            interest_payment_frequency=swap.Frequency.SEMI_ANNUAL,\n",
    "            index_name=\"EURIBOR\",\n",
    "            interest_type=swap.InterestType.FLOAT,\n",
    "            interest_calculation_method=\"Dcb_Actual_360\",\n",
    "            index_tenor=\"6M\",\n",
    "            spread_bp=0.0,\n",
    "        ),\n",
    "    ],\n",
    "    pricing_parameters=swap.PricingParameters(\n",
    "        valuation_date=\"2020-01-26T00:00:00Z\"\n",
    "    ),\n",
    "    fields=[\"InstrumentTag\",\n",
    "            \"DirtyPricePercent\",\n",
    "            \"FixedRatePercent\",\n",
    "            \"SpreadBp\",\n",
    "            \"PV01Bp\",\n",
    "            \"PV01AmountInDealCcy\",\n",
    "            \"DiscountCurveName\",\n",
    "            \"ForwardCurveName\",\n",
    "            \"ErrorCode\",\n",
    "            \"ErrorMessage\"],\n",
    ").get_data()\n",
    "\n",
    "response.data.df"
   ]
  },
  {
   "cell_type": "code",
   "execution_count": 4,
   "metadata": {},
   "outputs": [],
   "source": [
    "rd.close_session()"
   ]
  },
  {
   "cell_type": "code",
   "execution_count": null,
   "metadata": {},
   "outputs": [],
   "source": []
  }
 ],
 "metadata": {
  "kernelspec": {
   "display_name": "Python 3 (ipykernel)",
   "language": "python",
   "name": "python3"
  },
  "language_info": {
   "codemirror_mode": {
    "name": "ipython",
    "version": 3
   },
   "file_extension": ".py",
   "mimetype": "text/x-python",
   "name": "python",
   "nbconvert_exporter": "python",
   "pygments_lexer": "ipython3",
   "version": "3.9.13"
  },
  "vscode": {
   "interpreter": {
    "hash": "c85fff1d8f64dd81ed62580beef2fa8681baae0ff4c4324d6e96d73878a4932d"
   }
  }
 },
 "nbformat": 4,
 "nbformat_minor": 4
}
