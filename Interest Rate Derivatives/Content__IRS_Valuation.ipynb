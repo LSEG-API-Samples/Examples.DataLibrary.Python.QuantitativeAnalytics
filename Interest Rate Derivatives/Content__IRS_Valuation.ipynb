{
 "cells": [
  {
   "cell_type": "markdown",
   "metadata": {},
   "source": [
    "# Swap Samples\n",
    "\n",
    "This notebook demonstrates how to access and use the financial-contracts end point of Instrument Pricing Analytics (IPA) and the Refinitiv Data Libraries.\n",
    "\n",
    "##### Learn more\n",
    "\n",
    "To learn more about the Refinitiv Data Library for Python please join the Refinitiv Developer Community. By [registering](https://developers.refinitiv.com/iam/register) and [logging](https://developers.refinitiv.com/content/devportal/en_us/initCookie.html) into the Refinitiv Developer Community portal you will have free access to a number of learning materials like \n",
    " [Quick Start guides](https://developers.refinitiv.com/en/api-catalog/refinitiv-data-platform/refinitiv-data-library-for-python/quick-start), \n",
    " [Tutorials](https://developers.refinitiv.com/en/api-catalog/refinitiv-data-platform/refinitiv-data-library-for-python/tutorials), \n",
    " [Documentation](https://developers.refinitiv.com/en/api-catalog/refinitiv-data-platform/refinitiv-data-library-for-python/documentation)\n",
    " and much more.\n",
    "\n",
    "You may also visit the [API Playground](https://apidocs.refinitiv.com/Apps/ApiDocs) to get more examples, find  end points and download Swagger files\n",
    "\n",
    "##### Getting Help and Support\n",
    "\n",
    "If you have any questions regarding using the API, please post them on \n",
    "the [Refinitiv Data Q&A Forum](https://community.developers.refinitiv.com/spaces/321/index.html). \n",
    "The Refinitiv Developer Community will be happy to help. "
   ]
  },
  {
   "cell_type": "markdown",
   "metadata": {},
   "source": [
    "#### Import the library and connect to the Refinitv Data Libraries"
   ]
  },
  {
   "cell_type": "code",
   "execution_count": 1,
   "metadata": {},
   "outputs": [],
   "source": [
    "import refinitiv.data as rd\n",
    "from refinitiv.data.content.ipa.financial_contracts import swap"
   ]
  },
  {
   "cell_type": "markdown",
   "metadata": {},
   "source": [
    "## Open the data session\n",
    "\n",
    "The open_session() function creates and open sessions based on the information contained in the refinitiv-data.config.json configuration file. Please edit this file to set the session type and other parameters required for the session you want to open."
   ]
  },
  {
   "cell_type": "code",
   "execution_count": 2,
   "metadata": {},
   "outputs": [
    {
     "data": {
      "text/plain": [
       "<refinitiv.data.session.Definition object at 0x1078b1250 {name='workspace'}>"
      ]
     },
     "execution_count": 2,
     "metadata": {},
     "output_type": "execute_result"
    }
   ],
   "source": [
    "rd.open_session()"
   ]
  },
  {
   "cell_type": "markdown",
   "metadata": {},
   "source": [
    "### Valuing a Vanilla IRS using curve assignment to control the discount curve \n",
    "\n",
    "This sample value an existing swap defined leg by leg for a complete control of its term and conditions. The 'fields' requested are:\n",
    "- the market value in cash (CleanMarketValueInDealCcy, MarketValueInDealCcy, AccruedAmountInDealCcy)\n",
    "- their equivalent in in percent (AccruedPercent,CleanPricePercent,DirtyPricePercent,CleanPricePercent)\n",
    "- the PV01 (PV01Bp,PV01AmountInDealCcy)\n",
    "- the names of the zero-coupon curves used (DiscountCurveName,ForwardCurveName)\n",
    "- the error information (ErrorCode,ErrorMessage)\n",
    "\n",
    "In addition to the swap definition, the sections \"curveAssignment\" and \"marketData\" are used\n",
    "- the \"marketDataAssignments\" section specifies that the curve \"eur_ois_on_curve\" (\"assignmentTag\") is used to discount EUR denominated cash flows.\n",
    "- the \"marketdata\" section provide the definition of the curves. the \"assignmentTag\" is link between the two sections\n",
    "\n",
    "To learn more about curves, please refer to the samples in /curves-and-surfaces/curves/ "
   ]
  },
  {
   "cell_type": "code",
   "execution_count": 3,
   "metadata": {},
   "outputs": [
    {
     "data": {
      "text/html": [
       "<div>\n",
       "<style scoped>\n",
       "    .dataframe tbody tr th:only-of-type {\n",
       "        vertical-align: middle;\n",
       "    }\n",
       "\n",
       "    .dataframe tbody tr th {\n",
       "        vertical-align: top;\n",
       "    }\n",
       "\n",
       "    .dataframe thead th {\n",
       "        text-align: right;\n",
       "    }\n",
       "</style>\n",
       "<table border=\"1\" class=\"dataframe\">\n",
       "  <thead>\n",
       "    <tr style=\"text-align: right;\">\n",
       "      <th></th>\n",
       "      <th>InstrumentTag</th>\n",
       "      <th>MarketValueInDealCcy</th>\n",
       "      <th>DirtyPricePercent</th>\n",
       "      <th>FixedRatePercent</th>\n",
       "      <th>SpreadBp</th>\n",
       "      <th>PV01Bp</th>\n",
       "      <th>PV01AmountInDealCcy</th>\n",
       "      <th>DiscountCurveName</th>\n",
       "      <th>ForwardCurveName</th>\n",
       "      <th>ErrorCode</th>\n",
       "      <th>ErrorMessage</th>\n",
       "    </tr>\n",
       "  </thead>\n",
       "  <tbody>\n",
       "    <tr>\n",
       "      <th>0</th>\n",
       "      <td>IRS-EURIBOR-5Y</td>\n",
       "      <td>25290.342903</td>\n",
       "      <td>2.529034</td>\n",
       "      <td>0.5</td>\n",
       "      <td>&lt;NA&gt;</td>\n",
       "      <td>0.058033</td>\n",
       "      <td>5.803305</td>\n",
       "      <td>EUR - Swap vs 6M Euribor</td>\n",
       "      <td>&lt;NA&gt;</td>\n",
       "      <td></td>\n",
       "      <td></td>\n",
       "    </tr>\n",
       "    <tr>\n",
       "      <th>1</th>\n",
       "      <td>IRS-EURIBOR-5Y</td>\n",
       "      <td>25290.342903</td>\n",
       "      <td>2.529034</td>\n",
       "      <td>&lt;NA&gt;</td>\n",
       "      <td>101.695705</td>\n",
       "      <td>-4.003007</td>\n",
       "      <td>-400.300656</td>\n",
       "      <td>EUR - Swap vs 6M Euribor</td>\n",
       "      <td>EUR - Swap vs 6M Euribor</td>\n",
       "      <td></td>\n",
       "      <td></td>\n",
       "    </tr>\n",
       "  </tbody>\n",
       "</table>\n",
       "</div>"
      ],
      "text/plain": [
       "    InstrumentTag  MarketValueInDealCcy  DirtyPricePercent  FixedRatePercent  \\\n",
       "0  IRS-EURIBOR-5Y          25290.342903           2.529034               0.5   \n",
       "1  IRS-EURIBOR-5Y          25290.342903           2.529034              <NA>   \n",
       "\n",
       "     SpreadBp    PV01Bp  PV01AmountInDealCcy         DiscountCurveName  \\\n",
       "0        <NA>  0.058033             5.803305  EUR - Swap vs 6M Euribor   \n",
       "1  101.695705 -4.003007          -400.300656  EUR - Swap vs 6M Euribor   \n",
       "\n",
       "           ForwardCurveName ErrorCode ErrorMessage  \n",
       "0                      <NA>                         \n",
       "1  EUR - Swap vs 6M Euribor                         "
      ]
     },
     "execution_count": 3,
     "metadata": {},
     "output_type": "execute_result"
    }
   ],
   "source": [
    "response = swap.Definition(\n",
    "    instrument_tag=\"IRS-EURIBOR-5Y\",\n",
    "    start_date=\"2020-01-28\",\n",
    "    tenor=\"5Y\",\n",
    "    legs=[\n",
    "        swap.LegDefinition(\n",
    "            direction=swap.Direction.PAID,\n",
    "            notional_ccy=\"EUR\",\n",
    "            interest_payment_frequency=swap.Frequency.ANNUAL,\n",
    "            interest_type=swap.InterestType.FIXED,\n",
    "            interest_calculation_method=\"Dcb_30_360\",\n",
    "            fixed_rate_percent=0.5\n",
    "        ),\n",
    "        swap.LegDefinition(\n",
    "            direction=swap.Direction.RECEIVED,\n",
    "            notional_ccy=\"EUR\",\n",
    "            interest_payment_frequency=swap.Frequency.SEMI_ANNUAL,\n",
    "            index_name=\"EURIBOR\",\n",
    "            interest_type=swap.InterestType.FLOAT,\n",
    "            interest_calculation_method=\"Dcb_Actual_360\",\n",
    "            index_tenor=\"6M\",\n",
    "            spread_bp=0.0,\n",
    "        ),\n",
    "    ],\n",
    "    pricing_parameters=swap.PricingParameters(\n",
    "        valuation_date=\"2020-10-20T00:00:00Z\"\n",
    "    ),\n",
    "    extended_params={\n",
    "        \"marketDataAssignments\": {\n",
    "            \"rates\": {\n",
    "                \"discount\": [\n",
    "                    {\n",
    "                        \"key\": {\n",
    "                            \"currency\": \"EUR\"\n",
    "                        },\n",
    "                        \"assignmentTag\": \"eur_ois_on_curve\"\n",
    "                    }]\n",
    "            }\n",
    "        },\n",
    "\n",
    "        \"marketData\": {\n",
    "            \"interestRateCurves\": [\n",
    "                {\n",
    "                    \"assignmentTag\": \"eur_ois_on_curve\",\n",
    "                    \"curveDefinition\": {\n",
    "                        \"currency\": \"EUR\",\n",
    "                        \"discountingTenor\": \"OIS\",\n",
    "                        \"indexTenor\": \"OIS\"\n",
    "                    }\n",
    "                }]\n",
    "        },\n",
    "    },\n",
    "    fields=[\"InstrumentTag\",\n",
    "            \"MarketValueInDealCcy\",\n",
    "            \"DirtyPricePercent\",\n",
    "            \"FixedRatePercent\",\n",
    "            \"SpreadBp\",\n",
    "            \"PV01Bp\",\n",
    "            \"PV01AmountInDealCcy\",\n",
    "            \"DiscountCurveName\",\n",
    "            \"ForwardCurveName\",\n",
    "            \"ErrorCode\",\n",
    "            \"ErrorMessage\"],\n",
    "\n",
    ").get_data()\n",
    "\n",
    "response.data.df"
   ]
  },
  {
   "cell_type": "code",
   "execution_count": 4,
   "metadata": {},
   "outputs": [],
   "source": [
    "rd.close_session()"
   ]
  },
  {
   "cell_type": "code",
   "execution_count": null,
   "metadata": {},
   "outputs": [],
   "source": []
  }
 ],
 "metadata": {
  "kernelspec": {
   "display_name": "Python 3 (ipykernel)",
   "language": "python",
   "name": "python3"
  },
  "language_info": {
   "codemirror_mode": {
    "name": "ipython",
    "version": 3
   },
   "file_extension": ".py",
   "mimetype": "text/x-python",
   "name": "python",
   "nbconvert_exporter": "python",
   "pygments_lexer": "ipython3",
   "version": "3.9.13"
  },
  "vscode": {
   "interpreter": {
    "hash": "c85fff1d8f64dd81ed62580beef2fa8681baae0ff4c4324d6e96d73878a4932d"
   }
  }
 },
 "nbformat": 4,
 "nbformat_minor": 4
}
