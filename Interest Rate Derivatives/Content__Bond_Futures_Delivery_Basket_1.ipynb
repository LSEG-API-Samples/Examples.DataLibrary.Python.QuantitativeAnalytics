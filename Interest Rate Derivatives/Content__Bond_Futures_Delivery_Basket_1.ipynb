{
 "cells": [
  {
   "cell_type": "markdown",
   "metadata": {},
   "source": [
    "# Bond Futures Samples\n",
    "\n",
    "This notebook demonstrates how to access and use the financial-contracts end point of Instrument Pricing Analytics (IPA) and the Refinitiv Data Libraries.\n",
    "\n",
    "##### Learn more\n",
    "\n",
    "To learn more about the Refinitiv Data Library for Python please join the Refinitiv Developer Community. By [registering](https://developers.refinitiv.com/iam/register) and [logging](https://developers.refinitiv.com/content/devportal/en_us/initCookie.html) into the Refinitiv Developer Community portal you will have free access to a number of learning materials like \n",
    " [Quick Start guides](https://developers.refinitiv.com/en/api-catalog/refinitiv-data-platform/refinitiv-data-library-for-python/quick-start), \n",
    " [Tutorials](https://developers.refinitiv.com/en/api-catalog/refinitiv-data-platform/refinitiv-data-library-for-python/tutorials), \n",
    " [Documentation](https://developers.refinitiv.com/en/api-catalog/refinitiv-data-platform/refinitiv-data-library-for-python/documentation)\n",
    " and much more.\n",
    "\n",
    "You may also visit the [API Playground](https://apidocs.refinitiv.com/Apps/ApiDocs) to get more examples, find  end points and download Swagger files\n",
    "\n",
    "##### Getting Help and Support\n",
    "\n",
    "If you have any questions regarding using the API, please post them on \n",
    "the [Refinitiv Data Q&A Forum](https://community.developers.refinitiv.com/spaces/321/index.html). \n",
    "The Refinitiv Developer Community will be happy to help. "
   ]
  },
  {
   "cell_type": "markdown",
   "metadata": {},
   "source": [
    "#### Import the library and connect to the Refinitv Data Libraries"
   ]
  },
  {
   "cell_type": "code",
   "execution_count": 1,
   "metadata": {},
   "outputs": [],
   "source": [
    "import refinitiv.data as rd\n",
    "import refinitiv.data.content.ipa.financial_contracts as rdf\n",
    "from refinitiv.data.content.ipa.financial_contracts import bond"
   ]
  },
  {
   "cell_type": "markdown",
   "metadata": {},
   "source": [
    "## Open the data session\n",
    "\n",
    "The open_session() function creates and open sessions based on the information contained in the refinitiv-data.config.json configuration file. Please edit this file to set the session type and other parameters required for the session you want to open."
   ]
  },
  {
   "cell_type": "code",
   "execution_count": 2,
   "metadata": {},
   "outputs": [
    {
     "data": {
      "text/plain": [
       "<refinitiv.data.session.Definition object at 0x108a89a30 {name='workspace'}>"
      ]
     },
     "execution_count": 2,
     "metadata": {},
     "output_type": "execute_result"
    }
   ],
   "source": [
    "rd.open_session()"
   ]
  },
  {
   "cell_type": "markdown",
   "metadata": {},
   "source": [
    "### Analysing the delivery basket of a Bond future contract\n",
    "\n",
    "This sample provides delivery basket (DeliveryBasket) of a next (front month) contract. A detailed analysis of each bond of the basket is provided.\n"
   ]
  },
  {
   "cell_type": "code",
   "execution_count": 3,
   "metadata": {},
   "outputs": [
    {
     "data": {
      "text/plain": [
       "{'headers': [{'type': 'ObjectArray', 'name': 'DeliveryBasket'}],\n",
       " 'data': [[[{'isCheapestToDeliver': True,\n",
       "     'instrumentCode': 'FR001400BKZ3=',\n",
       "     'instrumentDescription': 'FRGV   2.000 11/25/32',\n",
       "     'ticker': 'FRGV',\n",
       "     'couponRatePercent': 2.0,\n",
       "     'endDate': '2032-11-25T00:00:00Z',\n",
       "     'cleanPrice': 89.981,\n",
       "     'dirtyPrice': 90.55086299999999,\n",
       "     'price': 89.981,\n",
       "     'accrued': 0.569863,\n",
       "     'yieldPercent': 3.2163703252900113,\n",
       "     'modifiedDuration': 8.545058241935456,\n",
       "     'convexity': 85.99359888316894,\n",
       "     'dV01Bp': 7.737624344535954,\n",
       "     'repoRatePercent': 3.3000000000000003,\n",
       "     'conversionFactor': 0.72314,\n",
       "     'impliedRepoRatePercent': 2.424281485259398,\n",
       "     'grossBasis': -0.11501260000001423,\n",
       "     'futureDV01Bp': 107.000364307547,\n",
       "     'forwardCleanPrice': 90.50571411415001,\n",
       "     'forwardYieldPercent': 3.205418775861355,\n",
       "     'fairFuture': 125.15655905377936,\n",
       "     'fundingCost': 1.5185825057213116,\n",
       "     'couponIncome': 158.334247,\n",
       "     'costCarry': 0.524714114150011,\n",
       "     'netBasis': 0.4097015141499968,\n",
       "     'duration': 8.819898959507817,\n",
       "     'cashOrPercentConvention': 'Percent',\n",
       "     'cleanOrDirtyConvention': 'Clean',\n",
       "     'forwardPrice': 90.50571411415001,\n",
       "     'priceSide': 'Mid'},\n",
       "    {'isCheapestToDeliver': False,\n",
       "     'instrumentCode': 'FR0014007L00=',\n",
       "     'instrumentDescription': 'FRGV         05/25/32',\n",
       "     'ticker': 'FRGV',\n",
       "     'couponRatePercent': 0.0,\n",
       "     'endDate': '2032-05-25T00:00:00Z',\n",
       "     'cleanPrice': 74.90700000000001,\n",
       "     'dirtyPrice': 74.90700000000001,\n",
       "     'price': 74.90700000000001,\n",
       "     'accrued': 0.0,\n",
       "     'yieldPercent': 3.1864430330687825,\n",
       "     'modifiedDuration': 8.926520416211746,\n",
       "     'convexity': 88.33364176451323,\n",
       "     'dV01Bp': 6.686588947705241,\n",
       "     'repoRatePercent': 3.3000000000000003,\n",
       "     'conversionFactor': 0.602259,\n",
       "     'impliedRepoRatePercent': 0.33189234650965455,\n",
       "     'grossBasis': -0.12844880999999475,\n",
       "     'futureDV01Bp': 111.02513947828494,\n",
       "     'forwardCleanPrice': 76.18416435000002,\n",
       "     'forwardYieldPercent': 3.171164091167902,\n",
       "     'fairFuture': 126.49734474702747,\n",
       "     'fundingCost': 1.256227229508197,\n",
       "     'couponIncome': 0.0,\n",
       "     'costCarry': 1.2771643500000003,\n",
       "     'netBasis': 1.1487155400000055,\n",
       "     'duration': 9.210958904109589,\n",
       "     'cashOrPercentConvention': 'Percent',\n",
       "     'cleanOrDirtyConvention': 'Clean',\n",
       "     'forwardPrice': 76.18416435000002,\n",
       "     'priceSide': 'Mid'}]]]}"
      ]
     },
     "execution_count": 3,
     "metadata": {},
     "output_type": "execute_result"
    }
   ],
   "source": [
    "response = bond.Definition(\n",
    "    instrument_code='FOATc3',\n",
    "    extended_params={'instrumentType': \"BondFuture\"},\n",
    "    fields=[\"DeliveryBasket\"]\n",
    ").get_data()\n",
    "\n",
    "response.data.raw"
   ]
  },
  {
   "cell_type": "code",
   "execution_count": 4,
   "metadata": {},
   "outputs": [],
   "source": [
    "rd.close_session()"
   ]
  },
  {
   "cell_type": "code",
   "execution_count": null,
   "metadata": {},
   "outputs": [],
   "source": []
  }
 ],
 "metadata": {
  "kernelspec": {
   "display_name": "Python 3 (ipykernel)",
   "language": "python",
   "name": "python3"
  },
  "language_info": {
   "codemirror_mode": {
    "name": "ipython",
    "version": 3
   },
   "file_extension": ".py",
   "mimetype": "text/x-python",
   "name": "python",
   "nbconvert_exporter": "python",
   "pygments_lexer": "ipython3",
   "version": "3.9.13"
  },
  "vscode": {
   "interpreter": {
    "hash": "c85fff1d8f64dd81ed62580beef2fa8681baae0ff4c4324d6e96d73878a4932d"
   }
  }
 },
 "nbformat": 4,
 "nbformat_minor": 4
}
