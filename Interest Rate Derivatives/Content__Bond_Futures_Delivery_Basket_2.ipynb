{
 "cells": [
  {
   "cell_type": "markdown",
   "metadata": {},
   "source": [
    "# Bond Futures Samples\n",
    "\n",
    "This notebook demonstrates how to access and use the financial-contracts end point of Instrument Pricing Analytics (IPA) and the Refinitiv Data Libraries.\n",
    "\n",
    "##### Learn more\n",
    "\n",
    "To learn more about the Refinitiv Data Library for Python please join the Refinitiv Developer Community. By [registering](https://developers.refinitiv.com/iam/register) and [logging](https://developers.refinitiv.com/content/devportal/en_us/initCookie.html) into the Refinitiv Developer Community portal you will have free access to a number of learning materials like \n",
    " [Quick Start guides](https://developers.refinitiv.com/en/api-catalog/refinitiv-data-platform/refinitiv-data-library-for-python/quick-start), \n",
    " [Tutorials](https://developers.refinitiv.com/en/api-catalog/refinitiv-data-platform/refinitiv-data-library-for-python/tutorials), \n",
    " [Documentation](https://developers.refinitiv.com/en/api-catalog/refinitiv-data-platform/refinitiv-data-library-for-python/documentation)\n",
    " and much more.\n",
    "\n",
    "You may also visit the [API Playground](https://apidocs.refinitiv.com/Apps/ApiDocs) to get more examples, find  end points and download Swagger files\n",
    "\n",
    "##### Getting Help and Support\n",
    "\n",
    "If you have any questions regarding using the API, please post them on \n",
    "the [Refinitiv Data Q&A Forum](https://community.developers.refinitiv.com/spaces/321/index.html). \n",
    "The Refinitiv Developer Community will be happy to help. "
   ]
  },
  {
   "cell_type": "markdown",
   "metadata": {},
   "source": [
    "#### Import the library and connect to the Refinitv Data Libraries"
   ]
  },
  {
   "cell_type": "code",
   "execution_count": 1,
   "metadata": {},
   "outputs": [],
   "source": [
    "import refinitiv.data as rd\n",
    "from refinitiv.data.content.ipa.financial_contracts import bond"
   ]
  },
  {
   "cell_type": "markdown",
   "metadata": {},
   "source": [
    "## Open the data session\n",
    "\n",
    "The open_session() function creates and open sessions based on the information contained in the refinitiv-data.config.json configuration file. Please edit this file to set the session type and other parameters required for the session you want to open."
   ]
  },
  {
   "cell_type": "code",
   "execution_count": 2,
   "metadata": {},
   "outputs": [
    {
     "data": {
      "text/plain": [
       "<refinitiv.data.session.Definition object at 0x15ae1f760 {name='workspace'}>"
      ]
     },
     "execution_count": 2,
     "metadata": {},
     "output_type": "execute_result"
    }
   ],
   "source": [
    "rd.open_session()"
   ]
  },
  {
   "cell_type": "markdown",
   "metadata": {},
   "source": [
    "### Computing Bond futures \n",
    "\n",
    "This sample provides the main future information and analytics. The 'fields' requested are:\n",
    "- the descriptive parameters of the bond future (InstrumentCode,InstrumentDescription, CouponRatePercent,EndDate)\n",
    "- The Cheapest to Deliver (CheapestToDeliver), its conversion factor (ConversionFactor), the invoice price (InvoicePrice), and the CTD yield implied from this invoice price (ImpliedYieldPercent)\n",
    "- the sensitivities of the bond future (ModifiedDuration, DV01Bp, Convexity)\n",
    "- the error information (ErrorCode, ErrorMessage)\n"
   ]
  },
  {
   "cell_type": "code",
   "execution_count": 3,
   "metadata": {},
   "outputs": [
    {
     "data": {
      "text/html": [
       "<div>\n",
       "<style scoped>\n",
       "    .dataframe tbody tr th:only-of-type {\n",
       "        vertical-align: middle;\n",
       "    }\n",
       "\n",
       "    .dataframe tbody tr th {\n",
       "        vertical-align: top;\n",
       "    }\n",
       "\n",
       "    .dataframe thead th {\n",
       "        text-align: right;\n",
       "    }\n",
       "</style>\n",
       "<table border=\"1\" class=\"dataframe\">\n",
       "  <thead>\n",
       "    <tr style=\"text-align: right;\">\n",
       "      <th></th>\n",
       "      <th>InstrumentCode</th>\n",
       "      <th>InstrumentDescription</th>\n",
       "      <th>CouponRatePercent</th>\n",
       "      <th>EndDate</th>\n",
       "      <th>CheapestToDeliver</th>\n",
       "      <th>ConversionFactor</th>\n",
       "      <th>InvoicePrice</th>\n",
       "      <th>ImpliedYieldPercent</th>\n",
       "      <th>ModifiedDuration</th>\n",
       "      <th>DV01Bp</th>\n",
       "      <th>Convexity</th>\n",
       "      <th>ErrorCode</th>\n",
       "      <th>ErrorMessage</th>\n",
       "    </tr>\n",
       "  </thead>\n",
       "  <tbody>\n",
       "    <tr>\n",
       "      <th>0</th>\n",
       "      <td>FOATc3</td>\n",
       "      <td>FOAT SEP3</td>\n",
       "      <td>6</td>\n",
       "      <td>2023-09-07</td>\n",
       "      <td>FR001400BKZ3=</td>\n",
       "      <td>0.72314</td>\n",
       "      <td>90.096013</td>\n",
       "      <td>3.26215</td>\n",
       "      <td>7.815719</td>\n",
       "      <td>9.737604</td>\n",
       "      <td>76.955533</td>\n",
       "      <td></td>\n",
       "      <td></td>\n",
       "    </tr>\n",
       "  </tbody>\n",
       "</table>\n",
       "</div>"
      ],
      "text/plain": [
       "  InstrumentCode InstrumentDescription  CouponRatePercent    EndDate  \\\n",
       "0         FOATc3             FOAT SEP3                  6 2023-09-07   \n",
       "\n",
       "  CheapestToDeliver  ConversionFactor  InvoicePrice  ImpliedYieldPercent  \\\n",
       "0     FR001400BKZ3=           0.72314     90.096013              3.26215   \n",
       "\n",
       "   ModifiedDuration    DV01Bp  Convexity ErrorCode ErrorMessage  \n",
       "0          7.815719  9.737604  76.955533                         "
      ]
     },
     "execution_count": 3,
     "metadata": {},
     "output_type": "execute_result"
    }
   ],
   "source": [
    "response = bond.Definition(\n",
    "    instrument_code='FOATc3',\n",
    "    extended_params={'instrumentType': \"BondFuture\"},\n",
    "\n",
    "    fields=[\n",
    "        \"InstrumentCode\",\n",
    "        \"InstrumentDescription\",\n",
    "        \"CouponRatePercent\",\n",
    "        \"EndDate\",\n",
    "        \"CheapestToDeliver\",\n",
    "        \"ConversionFactor\",\n",
    "        \"InvoicePrice\",\n",
    "        \"ImpliedYieldPercent\",\n",
    "        \"ModifiedDuration\",\n",
    "        \"DV01Bp\",\n",
    "        \"Convexity\",\n",
    "        \"ErrorCode\",\n",
    "        \"ErrorMessage\"]\n",
    ").get_data()\n",
    "\n",
    "response.data.df"
   ]
  },
  {
   "cell_type": "code",
   "execution_count": null,
   "metadata": {},
   "outputs": [],
   "source": []
  }
 ],
 "metadata": {
  "kernelspec": {
   "display_name": "Python 3 (ipykernel)",
   "language": "python",
   "name": "python3"
  },
  "language_info": {
   "codemirror_mode": {
    "name": "ipython",
    "version": 3
   },
   "file_extension": ".py",
   "mimetype": "text/x-python",
   "name": "python",
   "nbconvert_exporter": "python",
   "pygments_lexer": "ipython3",
   "version": "3.9.13"
  },
  "vscode": {
   "interpreter": {
    "hash": "c85fff1d8f64dd81ed62580beef2fa8681baae0ff4c4324d6e96d73878a4932d"
   }
  }
 },
 "nbformat": 4,
 "nbformat_minor": 4
}
