{
 "cells": [
  {
   "cell_type": "markdown",
   "metadata": {},
   "source": [
    "# Zc-Curve definitions Samples\n",
    "\n",
    "This notebook demonstrates how to access and use the zc-curve-definitions end point of Instrument Pricing Analytics (IPA) and the Refinitiv Data Libraries.\n",
    "\n",
    "##### Learn more\n",
    "\n",
    "To learn more about the Refinitiv Data Library for Python please join the Refinitiv Developer Community. By [registering](https://developers.refinitiv.com/iam/register) and [logging](https://developers.refinitiv.com/content/devportal/en_us/initCookie.html) into the Refinitiv Developer Community portal you will have free access to a number of learning materials like \n",
    " [Quick Start guides](https://developers.refinitiv.com/en/api-catalog/refinitiv-data-platform/refinitiv-data-library-for-python/quick-start), \n",
    " [Tutorials](https://developers.refinitiv.com/en/api-catalog/refinitiv-data-platform/refinitiv-data-library-for-python/tutorials), \n",
    " [Documentation](https://developers.refinitiv.com/en/api-catalog/refinitiv-data-platform/refinitiv-data-library-for-python/documentation)\n",
    " and much more.\n",
    "\n",
    "You may also visit the [API Playground](https://apidocs.refinitiv.com/Apps/ApiDocs) to get more examples, find  end points and download Swagger files\n",
    "\n",
    "##### Getting Help and Support\n",
    "\n",
    "If you have any questions regarding using the API, please post them on \n",
    "the [Refinitiv Data Q&A Forum](https://community.developers.refinitiv.com/spaces/321/index.html). \n",
    "The Refinitiv Developer Community will be happy to help. "
   ]
  },
  {
   "cell_type": "markdown",
   "metadata": {},
   "source": [
    "#### Import the library and connect to the Refinitv Data Libraries"
   ]
  },
  {
   "cell_type": "code",
   "execution_count": 1,
   "metadata": {},
   "outputs": [],
   "source": [
    "import refinitiv.data as rd\n",
    "from refinitiv.data.content.ipa.curves import zc_curve_definitions"
   ]
  },
  {
   "cell_type": "markdown",
   "metadata": {},
   "source": [
    "## Open the data session\n",
    "\n",
    "The open_session() function creates and open sessions based on the information contained in the refinitiv-data.config.json configuration file. Please edit this file to set the session type and other parameters required for the session you want to open."
   ]
  },
  {
   "cell_type": "code",
   "execution_count": 2,
   "metadata": {},
   "outputs": [
    {
     "data": {
      "text/plain": [
       "<refinitiv.data.session.Definition object at 0x13a99e790 {name='workspace'}>"
      ]
     },
     "execution_count": 2,
     "metadata": {},
     "output_type": "execute_result"
    }
   ],
   "source": [
    "rd.open_session()"
   ]
  },
  {
   "cell_type": "code",
   "execution_count": 3,
   "metadata": {},
   "outputs": [
    {
     "data": {
      "text/html": [
       "<div>\n",
       "<style scoped>\n",
       "    .dataframe tbody tr th:only-of-type {\n",
       "        vertical-align: middle;\n",
       "    }\n",
       "\n",
       "    .dataframe tbody tr th {\n",
       "        vertical-align: top;\n",
       "    }\n",
       "\n",
       "    .dataframe thead th {\n",
       "        text-align: right;\n",
       "    }\n",
       "</style>\n",
       "<table border=\"1\" class=\"dataframe\">\n",
       "  <thead>\n",
       "    <tr style=\"text-align: right;\">\n",
       "      <th></th>\n",
       "      <th>currency</th>\n",
       "      <th>mainConstituentAssetClass</th>\n",
       "      <th>riskType</th>\n",
       "      <th>indexName</th>\n",
       "      <th>source</th>\n",
       "      <th>name</th>\n",
       "      <th>firstHistoricalAvailabilityDate</th>\n",
       "      <th>id</th>\n",
       "      <th>owner</th>\n",
       "      <th>availableTenors</th>\n",
       "      <th>availableDiscountingTenors</th>\n",
       "    </tr>\n",
       "  </thead>\n",
       "  <tbody>\n",
       "    <tr>\n",
       "      <th>0</th>\n",
       "      <td>EUR</td>\n",
       "      <td>Deposit</td>\n",
       "      <td>InterestRate</td>\n",
       "      <td>EURIBOR</td>\n",
       "      <td>Refinitiv</td>\n",
       "      <td>EUR - Depo, IRS vs 6M</td>\n",
       "      <td>2001-08-09</td>\n",
       "      <td>48ebf727-a1ec-412e-a395-fef9ab9911a0</td>\n",
       "      <td>Refinitiv</td>\n",
       "      <td>[6M]</td>\n",
       "      <td>[6M]</td>\n",
       "    </tr>\n",
       "    <tr>\n",
       "      <th>1</th>\n",
       "      <td>EUR</td>\n",
       "      <td>Swap</td>\n",
       "      <td>InterestRate</td>\n",
       "      <td>ESTR</td>\n",
       "      <td>Refinitiv</td>\n",
       "      <td>EUR ESTR Swap ZC Curve</td>\n",
       "      <td>2019-09-26</td>\n",
       "      <td>d734ef63-367c-4a4f-9cca-135796c9a3ed</td>\n",
       "      <td>Refinitiv</td>\n",
       "      <td>[OIS]</td>\n",
       "      <td>[OIS]</td>\n",
       "    </tr>\n",
       "    <tr>\n",
       "      <th>2</th>\n",
       "      <td>EUR</td>\n",
       "      <td>Swap</td>\n",
       "      <td>InterestRate</td>\n",
       "      <td>EURIBOR</td>\n",
       "      <td>Refinitiv</td>\n",
       "      <td>EUR EURIBOR Swap ZC Curve</td>\n",
       "      <td>2000-09-05</td>\n",
       "      <td>9d619112-9ab3-45c9-b83c-eb04cbec382e</td>\n",
       "      <td>Refinitiv</td>\n",
       "      <td>[OIS, 1M, 3M, 6M, 1Y]</td>\n",
       "      <td>[OIS, 1M, 3M, 6M, 1Y]</td>\n",
       "    </tr>\n",
       "  </tbody>\n",
       "</table>\n",
       "</div>"
      ],
      "text/plain": [
       "  currency mainConstituentAssetClass      riskType indexName     source  \\\n",
       "0      EUR                   Deposit  InterestRate   EURIBOR  Refinitiv   \n",
       "1      EUR                      Swap  InterestRate      ESTR  Refinitiv   \n",
       "2      EUR                      Swap  InterestRate   EURIBOR  Refinitiv   \n",
       "\n",
       "                        name firstHistoricalAvailabilityDate  \\\n",
       "0      EUR - Depo, IRS vs 6M                      2001-08-09   \n",
       "1     EUR ESTR Swap ZC Curve                      2019-09-26   \n",
       "2  EUR EURIBOR Swap ZC Curve                      2000-09-05   \n",
       "\n",
       "                                     id      owner        availableTenors  \\\n",
       "0  48ebf727-a1ec-412e-a395-fef9ab9911a0  Refinitiv                   [6M]   \n",
       "1  d734ef63-367c-4a4f-9cca-135796c9a3ed  Refinitiv                  [OIS]   \n",
       "2  9d619112-9ab3-45c9-b83c-eb04cbec382e  Refinitiv  [OIS, 1M, 3M, 6M, 1Y]   \n",
       "\n",
       "  availableDiscountingTenors  \n",
       "0                       [6M]  \n",
       "1                      [OIS]  \n",
       "2      [OIS, 1M, 3M, 6M, 1Y]  "
      ]
     },
     "execution_count": 3,
     "metadata": {},
     "output_type": "execute_result"
    }
   ],
   "source": [
    "response = zc_curve_definitions.Definition(currency=\"EUR\").get_data()\n",
    "response.data.df"
   ]
  },
  {
   "cell_type": "code",
   "execution_count": 4,
   "metadata": {},
   "outputs": [],
   "source": [
    "rd.close_session()"
   ]
  },
  {
   "cell_type": "code",
   "execution_count": null,
   "metadata": {},
   "outputs": [],
   "source": []
  }
 ],
 "metadata": {
  "kernelspec": {
   "display_name": "Python 3 (ipykernel)",
   "language": "python",
   "name": "python3"
  },
  "language_info": {
   "codemirror_mode": {
    "name": "ipython",
    "version": 3
   },
   "file_extension": ".py",
   "mimetype": "text/x-python",
   "name": "python",
   "nbconvert_exporter": "python",
   "pygments_lexer": "ipython3",
   "version": "3.9.13"
  },
  "vscode": {
   "interpreter": {
    "hash": "c85fff1d8f64dd81ed62580beef2fa8681baae0ff4c4324d6e96d73878a4932d"
   }
  }
 },
 "nbformat": 4,
 "nbformat_minor": 4
}
