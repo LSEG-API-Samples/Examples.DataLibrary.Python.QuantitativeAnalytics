{
 "cells": [
  {
   "cell_type": "markdown",
   "metadata": {},
   "source": [
    "# Listed CDS Samples\n",
    "\n",
    "This notebook demonstrates how to access and use the financial-contracts end point of Instrument Pricing Analytics (IPA) and the Refinitiv Data Libraries.\n",
    "\n",
    "##### Learn more\n",
    "\n",
    "To learn more about the Refinitiv Data Library for Python please join the Refinitiv Developer Community. By [registering](https://developers.refinitiv.com/iam/register) and [logging](https://developers.refinitiv.com/content/devportal/en_us/initCookie.html) into the Refinitiv Developer Community portal you will have free access to a number of learning materials like \n",
    " [Quick Start guides](https://developers.refinitiv.com/en/api-catalog/refinitiv-data-platform/refinitiv-data-library-for-python/quick-start), \n",
    " [Tutorials](https://developers.refinitiv.com/en/api-catalog/refinitiv-data-platform/refinitiv-data-library-for-python/tutorials), \n",
    " [Documentation](https://developers.refinitiv.com/en/api-catalog/refinitiv-data-platform/refinitiv-data-library-for-python/documentation)\n",
    " and much more.\n",
    "\n",
    "You may also visit the [API Playground](https://apidocs.refinitiv.com/Apps/ApiDocs) to get more examples, find  end points and download Swagger files\n",
    "\n",
    "##### Getting Help and Support\n",
    "\n",
    "If you have any questions regarding using the API, please post them on \n",
    "the [Refinitiv Data Q&A Forum](https://community.developers.refinitiv.com/spaces/321/index.html). \n",
    "The Refinitiv Developer Community will be happy to help. \n"
   ]
  },
  {
   "cell_type": "markdown",
   "metadata": {},
   "source": [
    "#### Import the library and connect to the Refinitv Data Libraries"
   ]
  },
  {
   "cell_type": "code",
   "execution_count": 1,
   "metadata": {},
   "outputs": [],
   "source": [
    "import refinitiv.data as rd\n",
    "from refinitiv.data.content.ipa.financial_contracts import cds"
   ]
  },
  {
   "cell_type": "markdown",
   "metadata": {},
   "source": [
    "## Open the data session\n",
    "\n",
    "The open_session() function creates and open sessions based on the information contained in the refinitiv-data.config.json configuration file. Please edit this file to set the session type and other parameters required for the session you want to open."
   ]
  },
  {
   "cell_type": "code",
   "execution_count": 2,
   "metadata": {},
   "outputs": [
    {
     "data": {
      "text/plain": [
       "<refinitiv.data.session.Definition object at 0x15ae55790 {name='workspace'}>"
      ]
     },
     "execution_count": 2,
     "metadata": {},
     "output_type": "execute_result"
    }
   ],
   "source": [
    "rd.open_session()"
   ]
  },
  {
   "cell_type": "markdown",
   "metadata": {},
   "source": [
    "### retrieving proceeds and sensitivities for a Listed CDS\n",
    "\n",
    "This sample computes the following CDS analytics :\n",
    "- the option term & conditions (InstrumentDescription,EndDate,DealSpreadBp)\n",
    "- the proceeds (MarketValueInDealCcy,AccruedAmountInDealCcy,UpfrontAmountInDealCcy)\n",
    "- the main sensitivities (ConventionalSpreadBp,ParSpreadBp,CR01AmountInDealCcy, DV01AmountInDealCcy,RR01AmountInDealCcy,JumpToDefaultAmountInDealCcy)\n",
    "- the error information (ErrorCode,ErrorMessage)\n",
    "\n",
    "the full documentation of the parameters available for equity options can be found in the [Developer Community Portal](https://developers.refinitiv.com/en/api-catalog/refinitiv-data-platform/refinitiv-data-platform-apis/documentation#ipa-financial-contracts-cds-contracts)\n"
   ]
  },
  {
   "cell_type": "code",
   "execution_count": 3,
   "metadata": {},
   "outputs": [
    {
     "data": {
      "text/html": [
       "<div>\n",
       "<style scoped>\n",
       "    .dataframe tbody tr th:only-of-type {\n",
       "        vertical-align: middle;\n",
       "    }\n",
       "\n",
       "    .dataframe tbody tr th {\n",
       "        vertical-align: top;\n",
       "    }\n",
       "\n",
       "    .dataframe thead th {\n",
       "        text-align: right;\n",
       "    }\n",
       "</style>\n",
       "<table border=\"1\" class=\"dataframe\">\n",
       "  <thead>\n",
       "    <tr style=\"text-align: right;\">\n",
       "      <th></th>\n",
       "      <th>InstrumentDescription</th>\n",
       "      <th>EndDate</th>\n",
       "      <th>DealSpreadBp</th>\n",
       "      <th>CreditCurveId</th>\n",
       "      <th>MarketValueInDealCcy</th>\n",
       "      <th>AccruedAmountInDealCcy</th>\n",
       "      <th>UpfrontAmountInDealCcy</th>\n",
       "      <th>ConventionalSpreadBp</th>\n",
       "      <th>ParSpreadBp</th>\n",
       "      <th>CR01AmountInDealCcy</th>\n",
       "      <th>DV01AmountInDealCcy</th>\n",
       "      <th>RR01AmountInDealCcy</th>\n",
       "      <th>JumpToDefaultAmountInDealCcy</th>\n",
       "      <th>ErrorCode</th>\n",
       "      <th>ErrorMessage</th>\n",
       "    </tr>\n",
       "  </thead>\n",
       "  <tbody>\n",
       "    <tr>\n",
       "      <th>0</th>\n",
       "      <td>FRANCE.USD.SNRFOR.CR</td>\n",
       "      <td>2025-12-20</td>\n",
       "      <td>100</td>\n",
       "      <td>CdsIssuerCurve0#FRGVUSACRBMK=2021-01-11T00:00:00</td>\n",
       "      <td>-42019.811428</td>\n",
       "      <td>-638.888889</td>\n",
       "      <td>-41381.201731</td>\n",
       "      <td>16.3865</td>\n",
       "      <td>16.556878</td>\n",
       "      <td>511.591611</td>\n",
       "      <td>10.646636</td>\n",
       "      <td>131.028464</td>\n",
       "      <td>691381.201731</td>\n",
       "      <td></td>\n",
       "      <td></td>\n",
       "    </tr>\n",
       "  </tbody>\n",
       "</table>\n",
       "</div>"
      ],
      "text/plain": [
       "  InstrumentDescription    EndDate  DealSpreadBp  \\\n",
       "0  FRANCE.USD.SNRFOR.CR 2025-12-20           100   \n",
       "\n",
       "                                      CreditCurveId  MarketValueInDealCcy  \\\n",
       "0  CdsIssuerCurve0#FRGVUSACRBMK=2021-01-11T00:00:00         -42019.811428   \n",
       "\n",
       "   AccruedAmountInDealCcy  UpfrontAmountInDealCcy  ConventionalSpreadBp  \\\n",
       "0             -638.888889           -41381.201731               16.3865   \n",
       "\n",
       "   ParSpreadBp  CR01AmountInDealCcy  DV01AmountInDealCcy  RR01AmountInDealCcy  \\\n",
       "0    16.556878           511.591611            10.646636           131.028464   \n",
       "\n",
       "   JumpToDefaultAmountInDealCcy ErrorCode ErrorMessage  \n",
       "0                 691381.201731                         "
      ]
     },
     "execution_count": 3,
     "metadata": {},
     "output_type": "execute_result"
    }
   ],
   "source": [
    "response = cds.Definition(\n",
    "\n",
    "    instrument_tag=\"Cds1_InstrumentCode\",\n",
    "    instrument_code=\"FRGV5YUSAC=R\",\n",
    "    cds_convention=cds.CdsConvention.ISDA,\n",
    "    pricing_parameters=cds.PricingParameters(\n",
    "        valuation_date=\"2021-01-12T00:00:00Z\"),\n",
    "\n",
    "    fields=[\"InstrumentDescription\",\n",
    "            \"EndDate\",\n",
    "            \"DealSpreadBp\",\n",
    "            \"CreditCurveId\",\n",
    "            \"MarketValueInDealCcy\",\n",
    "            \"AccruedAmountInDealCcy\",\n",
    "            \"UpfrontAmountInDealCcy\",\n",
    "            \"ConventionalSpreadBp\",\n",
    "            \"ParSpreadBp\",\n",
    "            \"CR01AmountInDealCcy\",\n",
    "            \"DV01AmountInDealCcy\",\n",
    "            \"RR01AmountInDealCcy\",\n",
    "            \"JumpToDefaultAmountInDealCcy\",\n",
    "            \"ErrorCode\",\n",
    "            \"ErrorMessage\"]\n",
    ").get_data()\n",
    "\n",
    "response.data.df"
   ]
  },
  {
   "cell_type": "code",
   "execution_count": 5,
   "metadata": {},
   "outputs": [],
   "source": [
    "rd.close_session()"
   ]
  },
  {
   "cell_type": "code",
   "execution_count": null,
   "metadata": {},
   "outputs": [],
   "source": []
  }
 ],
 "metadata": {
  "kernelspec": {
   "display_name": "Python 3 (ipykernel)",
   "language": "python",
   "name": "python3"
  },
  "language_info": {
   "codemirror_mode": {
    "name": "ipython",
    "version": 3
   },
   "file_extension": ".py",
   "mimetype": "text/x-python",
   "name": "python",
   "nbconvert_exporter": "python",
   "pygments_lexer": "ipython3",
   "version": "3.9.13"
  },
  "vscode": {
   "interpreter": {
    "hash": "c85fff1d8f64dd81ed62580beef2fa8681baae0ff4c4324d6e96d73878a4932d"
   }
  }
 },
 "nbformat": 4,
 "nbformat_minor": 4
}
