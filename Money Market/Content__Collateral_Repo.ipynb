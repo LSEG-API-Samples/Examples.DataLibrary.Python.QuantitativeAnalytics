{
 "cells": [
  {
   "cell_type": "markdown",
   "metadata": {},
   "source": [
    "# Collateral Repo Samples\n",
    "\n",
    "This notebook demonstrates how to access and use the financial-contracts end point of Instrument Pricing Analytics (IPA) and the Refinitiv Data Libraries.\n",
    "\n",
    "##### Learn more\n",
    "\n",
    "To learn more about the Refinitiv Data Library for Python please join the Refinitiv Developer Community. By [registering](https://developers.refinitiv.com/iam/register) and [logging](https://developers.refinitiv.com/content/devportal/en_us/initCookie.html) into the Refinitiv Developer Community portal you will have free access to a number of learning materials like \n",
    " [Quick Start guides](https://developers.refinitiv.com/en/api-catalog/refinitiv-data-platform/refinitiv-data-library-for-python/quick-start), \n",
    " [Tutorials](https://developers.refinitiv.com/en/api-catalog/refinitiv-data-platform/refinitiv-data-library-for-python/tutorials), \n",
    " [Documentation](https://developers.refinitiv.com/en/api-catalog/refinitiv-data-platform/refinitiv-data-library-for-python/documentation)\n",
    " and much more.\n",
    " \n",
    " You may also visit the [API Playground](https://apidocs.refinitiv.com/Apps/ApiDocs) to get more examples, find  end points and download Swagger files\n",
    "\n",
    "#### Getting Help and Support\n",
    "\n",
    "If you have any questions regarding using the API, please post them on \n",
    "the [Refinitiv Data Q&A Forum](https://community.developers.refinitiv.com/spaces/321/index.html). \n",
    "The Refinitiv Developer Community will be happy to help. \n"
   ]
  },
  {
   "cell_type": "markdown",
   "metadata": {},
   "source": [
    "## Some Imports to start with"
   ]
  },
  {
   "cell_type": "code",
   "execution_count": 1,
   "metadata": {},
   "outputs": [],
   "source": [
    "import refinitiv.data as rd\n",
    "from refinitiv.data.content.ipa.financial_contracts import repo\n",
    "from refinitiv.data.content.ipa.financial_contracts import bond\n",
    "import pandas as pd"
   ]
  },
  {
   "cell_type": "markdown",
   "metadata": {},
   "source": [
    "## Open the data session\n",
    "\n",
    "The open_session() function creates and open sessions based on the information contained in the refinitiv-data.config.json configuration file. Please edit this file to set the session type and other parameters required for the session you want to open."
   ]
  },
  {
   "cell_type": "code",
   "execution_count": 2,
   "metadata": {},
   "outputs": [
    {
     "data": {
      "text/plain": [
       "<refinitiv.data.session.Definition object at 0x1061a1af0 {name='workspace'}>"
      ]
     },
     "execution_count": 2,
     "metadata": {},
     "output_type": "execute_result"
    }
   ],
   "source": [
    "rd.open_session()"
   ]
  },
  {
   "cell_type": "markdown",
   "metadata": {},
   "source": [
    "### Repo interest & repurchase price\n",
    "\n",
    "This sample computes the repurchase price and the interest due for a collateral repo. In this example the repo:\n",
    "- repo starts on 2021-01-21\n",
    "- repo ends on 2021-01-22\n",
    "- interest paid is 3.03%\n",
    "- the daycouont basis is Dcb_Actual_360\n",
    "- the underlying bonds is a Indonesian government bonds (FR0077)\n",
    "- the bpnd notional is IDR300,000,000,000\n",
    "- the bond dirty price is 109.330619\n",
    "- a 10% haircut is applied\n",
    "\n",
    "in addition the the parameters above the following 'fields' are requested:\n",
    "- the InitialMarginPercent\n",
    "- the RepoInterestAmountInDealCcy\n",
    "- the RepurchasePrice that is computed from the purchase price and the repo interest\n",
    "- UnderlyingAtStartObject that represents the state at the beginning of the repo of the bond used as collateral\n",
    "- the error information (ErrorCode,ErrorMessage)\n"
   ]
  },
  {
   "cell_type": "code",
   "execution_count": 3,
   "metadata": {},
   "outputs": [
    {
     "data": {
      "text/html": [
       "<div>\n",
       "<style scoped>\n",
       "    .dataframe tbody tr th:only-of-type {\n",
       "        vertical-align: middle;\n",
       "    }\n",
       "\n",
       "    .dataframe tbody tr th {\n",
       "        vertical-align: top;\n",
       "    }\n",
       "\n",
       "    .dataframe thead th {\n",
       "        text-align: right;\n",
       "    }\n",
       "</style>\n",
       "<table border=\"1\" class=\"dataframe\">\n",
       "  <thead>\n",
       "    <tr style=\"text-align: right;\">\n",
       "      <th></th>\n",
       "      <th>InstrumentTag</th>\n",
       "      <th>StartDate</th>\n",
       "      <th>EndDate</th>\n",
       "      <th>SettlementConvention</th>\n",
       "      <th>DayCountBasisRepoRatePercent</th>\n",
       "      <th>HaircutRatePercent</th>\n",
       "      <th>InitialMarginPercent</th>\n",
       "      <th>PurchasePrice</th>\n",
       "      <th>RepurchasePrice</th>\n",
       "      <th>RepoInterestAmountInDealCcy</th>\n",
       "      <th>UnderlyingAtStartObject</th>\n",
       "      <th>ErrorCode</th>\n",
       "      <th>ErrorMessage</th>\n",
       "    </tr>\n",
       "  </thead>\n",
       "  <tbody>\n",
       "    <tr>\n",
       "      <th>0</th>\n",
       "      <td>&lt;NA&gt;</td>\n",
       "      <td>2021-01-21</td>\n",
       "      <td>2021-01-22</td>\n",
       "      <td>2WD</td>\n",
       "      <td>&lt;NA&gt;</td>\n",
       "      <td>10</td>\n",
       "      <td>111.111111</td>\n",
       "      <td>295192671300</td>\n",
       "      <td>295217516683.16803</td>\n",
       "      <td>24845383.167725</td>\n",
       "      <td>{'endDate': {'value': '2024-05-15T00:00:00Z', ...</td>\n",
       "      <td></td>\n",
       "      <td></td>\n",
       "    </tr>\n",
       "  </tbody>\n",
       "</table>\n",
       "</div>"
      ],
      "text/plain": [
       "   InstrumentTag  StartDate    EndDate SettlementConvention  \\\n",
       "0           <NA> 2021-01-21 2021-01-22                  2WD   \n",
       "\n",
       "   DayCountBasisRepoRatePercent  HaircutRatePercent  InitialMarginPercent  \\\n",
       "0                          <NA>                  10            111.111111   \n",
       "\n",
       "   PurchasePrice     RepurchasePrice  RepoInterestAmountInDealCcy  \\\n",
       "0   295192671300  295217516683.16803              24845383.167725   \n",
       "\n",
       "                             UnderlyingAtStartObject ErrorCode ErrorMessage  \n",
       "0  {'endDate': {'value': '2024-05-15T00:00:00Z', ...                         "
      ]
     },
     "execution_count": 3,
     "metadata": {},
     "output_type": "execute_result"
    }
   ],
   "source": [
    "response = repo.Definition(\n",
    "\n",
    "    start_date=\"2021-01-21\",\n",
    "    end_date=\"2021-01-22\",\n",
    "    repo_rate_percent=3.03,\n",
    "    day_count_basis=\"Dcb_Actual_360\",\n",
    "    is_coupon_exchanged=False,\n",
    "\n",
    "    underlying_instruments=[\n",
    "        repo.UnderlyingContract(\n",
    "            instrument_type=\"Bond\",\n",
    "            instrument_definition=bond.Definition(\n",
    "                instrument_code=\"FR0077\",\n",
    "                notional_amount=300000000000\n",
    "            ),\n",
    "            pricing_parameters={\n",
    "                \"PricingParametersAtStart\": {\"dirtyPrice\": 109.330619},\n",
    "                \"repoParameters\": {\"haircutRatePercent\": 10}\n",
    "            },\n",
    "        )\n",
    "    ],\n",
    "\n",
    "    pricing_parameters=repo.PricingParameters(valuation_date=\"2021-01-21\"),\n",
    "\n",
    "    fields=[\"InstrumentTag\",\n",
    "            \"StartDate\",\n",
    "            \"EndDate\",\n",
    "            \"SettlementConvention\",\n",
    "            \"DayCountBasis\"\n",
    "            \"RepoRatePercent\",\n",
    "            \"HaircutRatePercent\",\n",
    "            \"InitialMarginPercent\",\n",
    "            \"PurchasePrice\",\n",
    "            \"RepurchasePrice\",\n",
    "            \"RepoInterestAmountInDealCcy\",\n",
    "            \"UnderlyingAtStartObject\",\n",
    "            \"ErrorCode\",\n",
    "            \"ErrorMessage\"],\n",
    ").get_data()\n",
    "\n",
    "response.data.df"
   ]
  },
  {
   "cell_type": "markdown",
   "metadata": {},
   "source": [
    "### Displaying the state of the bond posted as collateral at the start of the repo"
   ]
  },
  {
   "cell_type": "code",
   "execution_count": 4,
   "metadata": {},
   "outputs": [
    {
     "data": {
      "text/html": [
       "<div>\n",
       "<style scoped>\n",
       "    .dataframe tbody tr th:only-of-type {\n",
       "        vertical-align: middle;\n",
       "    }\n",
       "\n",
       "    .dataframe tbody tr th {\n",
       "        vertical-align: top;\n",
       "    }\n",
       "\n",
       "    .dataframe thead th {\n",
       "        text-align: right;\n",
       "    }\n",
       "</style>\n",
       "<table border=\"1\" class=\"dataframe\">\n",
       "  <thead>\n",
       "    <tr style=\"text-align: right;\">\n",
       "      <th></th>\n",
       "      <th>endDate</th>\n",
       "      <th>accrued</th>\n",
       "      <th>cleanPrice</th>\n",
       "      <th>dirtyPrice</th>\n",
       "      <th>notionalAmount</th>\n",
       "      <th>accruedDays</th>\n",
       "      <th>couponRatePercent</th>\n",
       "      <th>marketValueInDealCcy</th>\n",
       "      <th>yieldPercent</th>\n",
       "    </tr>\n",
       "  </thead>\n",
       "  <tbody>\n",
       "    <tr>\n",
       "      <th>value</th>\n",
       "      <td>2024-05-15T00:00:00Z</td>\n",
       "      <td>1.5038</td>\n",
       "      <td>107.826819</td>\n",
       "      <td>109.330619</td>\n",
       "      <td>300000000000.0</td>\n",
       "      <td>67</td>\n",
       "      <td>8.125</td>\n",
       "      <td>327991857000.0</td>\n",
       "      <td>5.5054</td>\n",
       "    </tr>\n",
       "    <tr>\n",
       "      <th>status</th>\n",
       "      <td>Data</td>\n",
       "      <td>Computed</td>\n",
       "      <td>Computed</td>\n",
       "      <td>User</td>\n",
       "      <td>User</td>\n",
       "      <td>Computed</td>\n",
       "      <td>Data</td>\n",
       "      <td>Computed</td>\n",
       "      <td>Computed</td>\n",
       "    </tr>\n",
       "  </tbody>\n",
       "</table>\n",
       "</div>"
      ],
      "text/plain": [
       "                     endDate   accrued  cleanPrice  dirtyPrice  \\\n",
       "value   2024-05-15T00:00:00Z    1.5038  107.826819  109.330619   \n",
       "status                  Data  Computed    Computed        User   \n",
       "\n",
       "        notionalAmount accruedDays couponRatePercent marketValueInDealCcy  \\\n",
       "value   300000000000.0          67             8.125       327991857000.0   \n",
       "status            User    Computed              Data             Computed   \n",
       "\n",
       "       yieldPercent  \n",
       "value        5.5054  \n",
       "status     Computed  "
      ]
     },
     "execution_count": 4,
     "metadata": {},
     "output_type": "execute_result"
    }
   ],
   "source": [
    "\n",
    "pd.DataFrame(response.data.df[\"UnderlyingAtStartObject\"][0])"
   ]
  },
  {
   "cell_type": "code",
   "execution_count": 5,
   "metadata": {},
   "outputs": [],
   "source": [
    "rd.close_session()"
   ]
  },
  {
   "cell_type": "code",
   "execution_count": null,
   "metadata": {},
   "outputs": [],
   "source": []
  }
 ],
 "metadata": {
  "kernelspec": {
   "display_name": "Python 3 (ipykernel)",
   "language": "python",
   "name": "python3"
  },
  "language_info": {
   "codemirror_mode": {
    "name": "ipython",
    "version": 3
   },
   "file_extension": ".py",
   "mimetype": "text/x-python",
   "name": "python",
   "nbconvert_exporter": "python",
   "pygments_lexer": "ipython3",
   "version": "3.9.13"
  }
 },
 "nbformat": 4,
 "nbformat_minor": 4
}
