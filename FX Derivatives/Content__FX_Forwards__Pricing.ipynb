{
 "cells": [
  {
   "cell_type": "markdown",
   "metadata": {},
   "source": [
    "# Fx Forward Samples\n",
    "\n",
    "This notebook demonstrates how to access and use the financial-contracts end point of Instrument Pricing Analytics (IPA) and the Refinitiv Data Libraries.\n",
    "\n",
    "##### Learn more\n",
    "\n",
    "To learn more about the Refinitiv Data Library for Python please join the Refinitiv Developer Community. By [registering](https://developers.refinitiv.com/iam/register) and [logging](https://developers.refinitiv.com/content/devportal/en_us/initCookie.html) into the Refinitiv Developer Community portal you will have free access to a number of learning materials like \n",
    " [Quick Start guides](https://developers.refinitiv.com/en/api-catalog/refinitiv-data-platform/refinitiv-data-library-for-python/quick-start), \n",
    " [Tutorials](https://developers.refinitiv.com/en/api-catalog/refinitiv-data-platform/refinitiv-data-library-for-python/tutorials), \n",
    " [Documentation](https://developers.refinitiv.com/en/api-catalog/refinitiv-data-platform/refinitiv-data-library-for-python/documentation)\n",
    " and much more.\n",
    "\n",
    "You may also visit the [API Playground](https://apidocs.refinitiv.com/Apps/ApiDocs) to get more examples, find  end points and download Swagger files\n",
    "\n",
    "##### Getting Help and Support\n",
    "\n",
    "If you have any questions regarding using the API, please post them on \n",
    "the [Refinitiv Data Q&A Forum](https://community.developers.refinitiv.com/spaces/321/index.html). \n",
    "The Refinitiv Developer Community will be happy to help. "
   ]
  },
  {
   "cell_type": "markdown",
   "metadata": {},
   "source": [
    "## Some Imports to start with"
   ]
  },
  {
   "cell_type": "code",
   "execution_count": 1,
   "metadata": {},
   "outputs": [],
   "source": [
    "import refinitiv.data as rd\n",
    "from refinitiv.data.content.ipa.financial_contracts import cross"
   ]
  },
  {
   "cell_type": "markdown",
   "metadata": {},
   "source": [
    "## Open the data session\n",
    "\n",
    "The open_session() function creates and open sessions based on the information contained in the refinitiv-data.config.json configuration file. Please edit this file to set the session type and other parameters required for the session you want to open."
   ]
  },
  {
   "cell_type": "code",
   "execution_count": 2,
   "metadata": {},
   "outputs": [
    {
     "data": {
      "text/plain": [
       "<refinitiv.data.session.Definition object at 0x105429bb0 {name='workspace'}>"
      ]
     },
     "execution_count": 2,
     "metadata": {},
     "output_type": "execute_result"
    }
   ],
   "source": [
    "rd.open_session()"
   ]
  },
  {
   "cell_type": "markdown",
   "metadata": {},
   "source": [
    "### Pricing use case\n",
    "\n",
    "This sample computes a cross forward at a specific broken date and returns the intermediary information used to derive the value:\n",
    "- the interpolated forward for each currency ('FxSwapsCcy1', 'FxSwapsCcy2')\n",
    "- the cross spot rate ('FxSpot')\n",
    "- the cross forward rate ('FxSwapsCcy1Ccy2')\n",
    "- the cross outright rate ('FxOutrightCcy1Ccy2')\n",
    "\n",
    "it also provides information such as athe scaling factor used for the swap points ('FxSwapPointScalingFactor') and the spot rate ('FxCrossScalingFactor') or the actual start date ('StartDate') and end date ('EndDate') of the contract.\n",
    "\n"
   ]
  },
  {
   "cell_type": "code",
   "execution_count": 3,
   "metadata": {},
   "outputs": [
    {
     "data": {
      "text/html": [
       "<div>\n",
       "<style scoped>\n",
       "    .dataframe tbody tr th:only-of-type {\n",
       "        vertical-align: middle;\n",
       "    }\n",
       "\n",
       "    .dataframe tbody tr th {\n",
       "        vertical-align: top;\n",
       "    }\n",
       "\n",
       "    .dataframe thead th {\n",
       "        text-align: right;\n",
       "    }\n",
       "</style>\n",
       "<table border=\"1\" class=\"dataframe\">\n",
       "  <thead>\n",
       "    <tr style=\"text-align: right;\">\n",
       "      <th></th>\n",
       "      <th>InstrumentDescription</th>\n",
       "      <th>FxCrossScalingFactor</th>\n",
       "      <th>FxSwapPointScalingFactor</th>\n",
       "      <th>ValuationDate</th>\n",
       "      <th>StartDate</th>\n",
       "      <th>EndDate</th>\n",
       "      <th>Tenor</th>\n",
       "      <th>FxSpot</th>\n",
       "      <th>FxSwapsCcy1</th>\n",
       "      <th>FxSwapsCcy2</th>\n",
       "      <th>FxSwapsCcy1Ccy2</th>\n",
       "      <th>FxOutrightCcy1Ccy2</th>\n",
       "      <th>ErrorCode</th>\n",
       "      <th>ErrorMessage</th>\n",
       "    </tr>\n",
       "  </thead>\n",
       "  <tbody>\n",
       "    <tr>\n",
       "      <th>0</th>\n",
       "      <td>FxForward KRWINR 2020-12-2</td>\n",
       "      <td>1</td>\n",
       "      <td>10000</td>\n",
       "      <td>2020-04-15</td>\n",
       "      <td>2020-04-17</td>\n",
       "      <td>2020-12-02</td>\n",
       "      <td>&lt;NA&gt;</td>\n",
       "      <td>0.062521</td>\n",
       "      <td>-758.695652</td>\n",
       "      <td>204.3286</td>\n",
       "      <td>21.48954</td>\n",
       "      <td>0.06467</td>\n",
       "      <td></td>\n",
       "      <td></td>\n",
       "    </tr>\n",
       "  </tbody>\n",
       "</table>\n",
       "</div>"
      ],
      "text/plain": [
       "        InstrumentDescription  FxCrossScalingFactor  FxSwapPointScalingFactor  \\\n",
       "0  FxForward KRWINR 2020-12-2                     1                     10000   \n",
       "\n",
       "  ValuationDate  StartDate    EndDate  Tenor    FxSpot  FxSwapsCcy1  \\\n",
       "0    2020-04-15 2020-04-17 2020-12-02   <NA>  0.062521  -758.695652   \n",
       "\n",
       "   FxSwapsCcy2  FxSwapsCcy1Ccy2  FxOutrightCcy1Ccy2 ErrorCode ErrorMessage  \n",
       "0     204.3286         21.48954             0.06467                         "
      ]
     },
     "execution_count": 3,
     "metadata": {},
     "output_type": "execute_result"
    }
   ],
   "source": [
    "response = cross.Definition(\n",
    "    instrument_tag=\"Fx-Forward\",\n",
    "    fx_cross_type=cross.FxCrossType.FX_FORWARD,\n",
    "    fx_cross_code=\"KRWINR\",\n",
    "\n",
    "    legs=[\n",
    "        cross.LegDefinition(\n",
    "            end_date=\"2020-12-02\",\n",
    "            # tenor=\"1M\",\n",
    "        ),\n",
    "    ],\n",
    "\n",
    "    pricing_parameters=cross.PricingParameters(\n",
    "        valuation_date=\"2020-04-15\",\n",
    "        ignore_ref_ccy_holidays=False,\n",
    "        price_side=cross.PriceSide.ASK,\n",
    "    ),\n",
    "\n",
    "    fields=[\"InstrumentDescription\",\n",
    "            \"FxCrossScalingFactor\",\n",
    "            \"FxSwapPointScalingFactor\",\n",
    "            \"ValuationDate\",\n",
    "            \"StartDate\",\n",
    "            \"EndDate\",\n",
    "            \"Tenor\",\n",
    "            \"FxSpot\",\n",
    "            \"FxSwapsCcy1\",\n",
    "            \"FxSwapsCcy2\",\n",
    "            \"FxSwapsCcy1Ccy2\",\n",
    "            \"FxOutrightCcy1Ccy2\",\n",
    "            \"ErrorCode\",\n",
    "            \"ErrorMessage\"],\n",
    ").get_data()\n",
    "\n",
    "response.data.df"
   ]
  },
  {
   "cell_type": "code",
   "execution_count": 4,
   "metadata": {},
   "outputs": [],
   "source": [
    "rd.close_session()"
   ]
  },
  {
   "cell_type": "code",
   "execution_count": null,
   "metadata": {},
   "outputs": [],
   "source": []
  }
 ],
 "metadata": {
  "kernelspec": {
   "display_name": "Python 3 (ipykernel)",
   "language": "python",
   "name": "python3"
  },
  "language_info": {
   "codemirror_mode": {
    "name": "ipython",
    "version": 3
   },
   "file_extension": ".py",
   "mimetype": "text/x-python",
   "name": "python",
   "nbconvert_exporter": "python",
   "pygments_lexer": "ipython3",
   "version": "3.9.13"
  },
  "vscode": {
   "interpreter": {
    "hash": "c85fff1d8f64dd81ed62580beef2fa8681baae0ff4c4324d6e96d73878a4932d"
   }
  }
 },
 "nbformat": 4,
 "nbformat_minor": 4
}
