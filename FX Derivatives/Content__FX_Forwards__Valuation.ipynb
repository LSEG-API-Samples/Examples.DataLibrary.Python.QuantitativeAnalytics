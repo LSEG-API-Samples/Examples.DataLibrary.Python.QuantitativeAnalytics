{
 "cells": [
  {
   "cell_type": "markdown",
   "metadata": {},
   "source": [
    "# Fx Forward Samples\n",
    "\n",
    "This notebook demonstrates how to access and use the financial-contracts end point of Instrument Pricing Analytics (IPA) and the Refinitiv Data Libraries.\n",
    "\n",
    "\n",
    "##### Learn more\n",
    "\n",
    "To learn more about the Refinitiv Data Library for Python please join the Refinitiv Developer Community. By [registering](https://developers.refinitiv.com/iam/register) and [logging](https://developers.refinitiv.com/content/devportal/en_us/initCookie.html) into the Refinitiv Developer Community portal you will have free access to a number of learning materials like \n",
    " [Quick Start guides](https://developers.refinitiv.com/en/api-catalog/refinitiv-data-platform/refinitiv-data-library-for-python/quick-start), \n",
    " [Tutorials](https://developers.refinitiv.com/en/api-catalog/refinitiv-data-platform/refinitiv-data-library-for-python/tutorials), \n",
    " [Documentation](https://developers.refinitiv.com/en/api-catalog/refinitiv-data-platform/refinitiv-data-library-for-python/documentation)\n",
    " and much more.\n",
    "\n",
    "You may also visit the [API Playground](https://apidocs.refinitiv.com/Apps/ApiDocs) to get more examples, find  end points and download Swagger files\n",
    "\n",
    "##### Getting Help and Support\n",
    "\n",
    "If you have any questions regarding using the API, please post them on \n",
    "the [Refinitiv Data Q&A Forum](https://community.developers.refinitiv.com/spaces/321/index.html). \n",
    "The Refinitiv Developer Community will be happy to help. "
   ]
  },
  {
   "cell_type": "markdown",
   "metadata": {},
   "source": [
    "## Some Imports to start with"
   ]
  },
  {
   "cell_type": "code",
   "execution_count": 1,
   "metadata": {},
   "outputs": [],
   "source": [
    "import refinitiv.data as rd\n",
    "from refinitiv.data.content.ipa.financial_contracts import cross"
   ]
  },
  {
   "cell_type": "markdown",
   "metadata": {},
   "source": [
    "## Open the data session\n",
    "\n",
    "The open_session() function creates and open sessions based on the information contained in the refinitiv-data.config.json configuration file. Please edit this file to set the session type and other parameters required for the session you want to open."
   ]
  },
  {
   "cell_type": "code",
   "execution_count": 2,
   "metadata": {},
   "outputs": [
    {
     "data": {
      "text/plain": [
       "<refinitiv.data.session.Definition object at 0x107ba1ca0 {name='workspace'}>"
      ]
     },
     "execution_count": 2,
     "metadata": {},
     "output_type": "execute_result"
    }
   ],
   "source": [
    "rd.open_session()"
   ]
  },
  {
   "cell_type": "markdown",
   "metadata": {},
   "source": [
    "### Computing the Mark-to-Market of an Fx Forward instrument\n",
    "\n",
    "This sample compute the market value in each currency of an existing forward. it also provide additional information like:\n",
    "- the sport rate (\"FxSpot\") and the cross outright and swap points at the maturity of the forward (\"FxOutrightCcy1Ccy2\", \"FxSwapsCcy1Ccy2\")\n",
    "- the delta in each currency (\"DeltaAmountInDealCcy\", \"DeltaAmountInContraCcy\")"
   ]
  },
  {
   "cell_type": "code",
   "execution_count": 3,
   "metadata": {},
   "outputs": [
    {
     "data": {
      "text/html": [
       "<div>\n",
       "<style scoped>\n",
       "    .dataframe tbody tr th:only-of-type {\n",
       "        vertical-align: middle;\n",
       "    }\n",
       "\n",
       "    .dataframe tbody tr th {\n",
       "        vertical-align: top;\n",
       "    }\n",
       "\n",
       "    .dataframe thead th {\n",
       "        text-align: right;\n",
       "    }\n",
       "</style>\n",
       "<table border=\"1\" class=\"dataframe\">\n",
       "  <thead>\n",
       "    <tr style=\"text-align: right;\">\n",
       "      <th></th>\n",
       "      <th>InstrumentTag</th>\n",
       "      <th>StartDate</th>\n",
       "      <th>FxSpot</th>\n",
       "      <th>FxOutrightCcy1Ccy2</th>\n",
       "      <th>FxSwapsCcy1Ccy2</th>\n",
       "      <th>MarketValueInDealCcy</th>\n",
       "      <th>MarketValueInContraCcy</th>\n",
       "      <th>DeltaAmountInDealCcy</th>\n",
       "      <th>DeltaAmountInContraCcy</th>\n",
       "      <th>ErrorCode</th>\n",
       "      <th>ErrorMessage</th>\n",
       "    </tr>\n",
       "  </thead>\n",
       "  <tbody>\n",
       "    <tr>\n",
       "      <th>0</th>\n",
       "      <td>1</td>\n",
       "      <td>2020-03-06</td>\n",
       "      <td>1.1286</td>\n",
       "      <td>1.128382</td>\n",
       "      <td>1.61</td>\n",
       "      <td>28167.167052</td>\n",
       "      <td>31779.020724</td>\n",
       "      <td>1971834.006569</td>\n",
       "      <td>2000000</td>\n",
       "      <td></td>\n",
       "      <td></td>\n",
       "    </tr>\n",
       "  </tbody>\n",
       "</table>\n",
       "</div>"
      ],
      "text/plain": [
       "  InstrumentTag  StartDate  FxSpot  FxOutrightCcy1Ccy2  FxSwapsCcy1Ccy2  \\\n",
       "0             1 2020-03-06  1.1286            1.128382             1.61   \n",
       "\n",
       "   MarketValueInDealCcy  MarketValueInContraCcy  DeltaAmountInDealCcy  \\\n",
       "0          28167.167052            31779.020724        1971834.006569   \n",
       "\n",
       "   DeltaAmountInContraCcy ErrorCode ErrorMessage  \n",
       "0                 2000000                         "
      ]
     },
     "execution_count": 3,
     "metadata": {},
     "output_type": "execute_result"
    }
   ],
   "source": [
    "response = cross.Definition(\n",
    "    instrument_tag=\"1\",\n",
    "    fx_cross_type=cross.FxCrossType.FX_FORWARD,\n",
    "    fx_cross_code=\"EURUSD\",\n",
    "\n",
    "    legs=[\n",
    "        cross.LegDefinition(\n",
    "            end_date=\"2020-03-09T00:00:00Z\",\n",
    "            start_date=\"2020-03-06T00:00:00Z\",\n",
    "            leg_tag=\"L:0-R:0\",\n",
    "            fx_leg_type=\"FxForward\",\n",
    "            deal_ccy=\"EUR\",\n",
    "            deal_ccy_buy_sell=\"buy\",\n",
    "            deal_amount=2000000,\n",
    "            contra_amount=2224982\n",
    "        ),\n",
    "    ],\n",
    "\n",
    "    pricing_parameters=cross.PricingParameters(\n",
    "        market_data_date=\"2020-03-06T00:00:00Z\",\n",
    "        valuation_date=\"2020-03-06T00:00:00Z\"\n",
    "    ),\n",
    "\n",
    "    fields=[\"InstrumentTag\",\n",
    "            \"StartDate\",\n",
    "            \"FxSpot\",\n",
    "            \"FxOutrightCcy1Ccy2\",\n",
    "            \"FxSwapsCcy1Ccy2\",\n",
    "            \"MarketValueInDealCcy\",\n",
    "            \"MarketValueInContraCcy\",\n",
    "            \"DeltaAmountInDealCcy\",\n",
    "            \"DeltaAmountInContraCcy\",\n",
    "            \"ErrorCode\",\n",
    "            \"ErrorMessage\"],\n",
    ").get_data()\n",
    "\n",
    "response.data.df"
   ]
  },
  {
   "cell_type": "code",
   "execution_count": 4,
   "metadata": {},
   "outputs": [],
   "source": [
    "rd.close_session()"
   ]
  },
  {
   "cell_type": "code",
   "execution_count": null,
   "metadata": {},
   "outputs": [],
   "source": []
  }
 ],
 "metadata": {
  "kernelspec": {
   "display_name": "Python 3 (ipykernel)",
   "language": "python",
   "name": "python3"
  },
  "language_info": {
   "codemirror_mode": {
    "name": "ipython",
    "version": 3
   },
   "file_extension": ".py",
   "mimetype": "text/x-python",
   "name": "python",
   "nbconvert_exporter": "python",
   "pygments_lexer": "ipython3",
   "version": "3.9.13"
  },
  "vscode": {
   "interpreter": {
    "hash": "c85fff1d8f64dd81ed62580beef2fa8681baae0ff4c4324d6e96d73878a4932d"
   }
  }
 },
 "nbformat": 4,
 "nbformat_minor": 4
}
